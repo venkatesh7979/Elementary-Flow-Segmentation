{
 "cells": [
  {
   "cell_type": "code",
   "execution_count": 70,
   "metadata": {},
   "outputs": [
    {
     "name": "stdout",
     "output_type": "stream",
     "text": [
      "C:\\Users\\venka\\OneDrive\\Desktop\\BTP\\Data\\source_doublet_vortex\\train_data\\train\n"
     ]
    }
   ],
   "source": [
    "cd C:\\Users\\venka\\OneDrive\\Desktop\\BTP\\Data\\source_doublet_vortex\\train_data\\train"
   ]
  },
  {
   "cell_type": "markdown",
   "metadata": {},
   "source": [
    "Import the libraries"
   ]
  },
  {
   "cell_type": "code",
   "execution_count": 3,
   "metadata": {},
   "outputs": [],
   "source": [
    "import matplotlib.pyplot as plt\n",
    "import scipy.io\n",
    "import time\n",
    "from keras.layers import Input, Lambda, Dense, Flatten, GlobalAveragePooling2D, Conv2D, MaxPooling2D,Dropout\n",
    "from keras.models import Model\n",
    "from keras.preprocessing import image\n",
    "from keras.preprocessing.image import ImageDataGenerator\n",
    "from keras.models import Sequential\n",
    "from keras.preprocessing import image\n",
    "from sklearn.model_selection import train_test_split\n",
    "import os\n",
    "import numpy as np\n",
    "from glob import glob\n",
    "import matplotlib.pyplot as plt\n",
    "from keras.callbacks import EarlyStopping, ModelCheckpoint\n",
    "import pandas as pd\n",
    "import tensorflow as tf"
   ]
  },
  {
   "cell_type": "markdown",
   "metadata": {},
   "source": [
    "# Source sink"
   ]
  },
  {
   "cell_type": "markdown",
   "metadata": {},
   "source": [
    "Import the Data"
   ]
  },
  {
   "cell_type": "code",
   "execution_count": 99,
   "metadata": {},
   "outputs": [
    {
     "name": "stdout",
     "output_type": "stream",
     "text": [
      "C:\\Users\\venka\\OneDrive\\Desktop\\BTP\\Data\\source_doublet_vortex\\train_data\\train\n"
     ]
    }
   ],
   "source": [
    "cd C:\\Users\\venka\\OneDrive\\Desktop\\BTP\\Data\\source_doublet_vortex\\train_data\\train"
   ]
  },
  {
   "cell_type": "code",
   "execution_count": 100,
   "metadata": {},
   "outputs": [],
   "source": [
    "X_train = np.load('source_sink_train.npy')\n",
    "y_train = np.load('source_sink_sth_train.npy')"
   ]
  },
  {
   "cell_type": "code",
   "execution_count": 72,
   "metadata": {},
   "outputs": [
    {
     "data": {
      "text/plain": [
       "(1626, 26, 26, 3)"
      ]
     },
     "execution_count": 72,
     "metadata": {},
     "output_type": "execute_result"
    }
   ],
   "source": [
    "X_train.shape"
   ]
  },
  {
   "cell_type": "code",
   "execution_count": 73,
   "metadata": {},
   "outputs": [
    {
     "data": {
      "text/plain": [
       "<matplotlib.image.AxesImage at 0x1bbb58f9fd0>"
      ]
     },
     "execution_count": 73,
     "metadata": {},
     "output_type": "execute_result"
    },
    {
     "data": {
      "image/png": "[encoded data removed]",
      "text/plain": [
       "<Figure size 432x288 with 1 Axes>"
      ]
     },
     "metadata": {
      "needs_background": "light"
     },
     "output_type": "display_data"
    }
   ],
   "source": [
    "plt.imshow(X_train[0][:,:,2])"
   ]
  },
  {
   "cell_type": "code",
   "execution_count": 74,
   "metadata": {},
   "outputs": [
    {
     "data": {
      "text/plain": [
       "(1626,)"
      ]
     },
     "execution_count": 74,
     "metadata": {},
     "output_type": "execute_result"
    }
   ],
   "source": [
    "y_train.shape"
   ]
  },
  {
   "cell_type": "code",
   "execution_count": 101,
   "metadata": {},
   "outputs": [
    {
     "name": "stdout",
     "output_type": "stream",
     "text": [
      "C:\\Users\\venka\\OneDrive\\Desktop\\BTP\\Data\\source_doublet_vortex\\train_data\\val\n"
     ]
    }
   ],
   "source": [
    "cd C:\\Users\\venka\\OneDrive\\Desktop\\BTP\\Data\\source_doublet_vortex\\train_data\\val"
   ]
  },
  {
   "cell_type": "code",
   "execution_count": 102,
   "metadata": {},
   "outputs": [],
   "source": [
    "X_val = np.load('source_sink_val.npy')\n",
    "y_val = np.load('source_sink_sth_val.npy')"
   ]
  },
  {
   "cell_type": "code",
   "execution_count": 77,
   "metadata": {},
   "outputs": [
    {
     "data": {
      "text/plain": [
       "(334, 26, 26, 3)"
      ]
     },
     "execution_count": 77,
     "metadata": {},
     "output_type": "execute_result"
    }
   ],
   "source": [
    "X_val.shape"
   ]
  },
  {
   "cell_type": "code",
   "execution_count": 78,
   "metadata": {},
   "outputs": [
    {
     "data": {
      "text/plain": [
       "(334,)"
      ]
     },
     "execution_count": 78,
     "metadata": {},
     "output_type": "execute_result"
    }
   ],
   "source": [
    "y_val.shape"
   ]
  },
  {
   "cell_type": "code",
   "execution_count": 103,
   "metadata": {},
   "outputs": [],
   "source": [
    "X_train = (X_train/500 + 1)/2\n",
    "X_val = (X_val/500 + 1)/2"
   ]
  },
  {
   "cell_type": "code",
   "execution_count": 104,
   "metadata": {},
   "outputs": [],
   "source": [
    "y_train = (y_train/500 + 1)/2\n",
    "y_val = (y_val/500 + 1)/2"
   ]
  },
  {
   "cell_type": "markdown",
   "metadata": {},
   "source": [
    "# Model"
   ]
  },
  {
   "cell_type": "code",
   "execution_count": 106,
   "metadata": {},
   "outputs": [],
   "source": [
    "model = Sequential()\n",
    "\n",
    "model.add(Conv2D(512, (5), activation='relu',input_shape=(26,26,3)))\n",
    "model.add(MaxPooling2D((2, 2)))\n",
    "\n",
    "model.add(Conv2D(256, (4), activation='relu'))\n",
    "model.add(MaxPooling2D((2, 2)))\n",
    "\n",
    "model.add(Conv2D(128, (3), activation='relu'))\n",
    "model.add(MaxPooling2D((2, 2)))\n",
    "\n",
    "\n",
    "model.add(Flatten())\n",
    "model.add(Dropout(0.5))  #Dropout for regularization\n",
    "model.add(Dense(128, activation='relu'))\n",
    "model.add(Dense(64, activation='relu'))\n",
    "model.add(Dense(32, activation='relu'))\n",
    "model.add(Dense(1, activation='relu'))\n",
    "\n",
    "model.compile(loss='mse',optimizer='adam')"
   ]
  },
  {
   "cell_type": "code",
   "execution_count": 107,
   "metadata": {},
   "outputs": [
    {
     "name": "stdout",
     "output_type": "stream",
     "text": [
      "Model: \"sequential_14\"\n",
      "_________________________________________________________________\n",
      "Layer (type)                 Output Shape              Param #   \n",
      "=================================================================\n",
      "conv2d_49 (Conv2D)           (None, 22, 22, 512)       38912     \n",
      "_________________________________________________________________\n",
      "max_pooling2d_42 (MaxPooling (None, 11, 11, 512)       0         \n",
      "_________________________________________________________________\n",
      "conv2d_50 (Conv2D)           (None, 8, 8, 256)         2097408   \n",
      "_________________________________________________________________\n",
      "max_pooling2d_43 (MaxPooling (None, 4, 4, 256)         0         \n",
      "_________________________________________________________________\n",
      "conv2d_51 (Conv2D)           (None, 2, 2, 128)         295040    \n",
      "_________________________________________________________________\n",
      "max_pooling2d_44 (MaxPooling (None, 1, 1, 128)         0         \n",
      "_________________________________________________________________\n",
      "flatten_10 (Flatten)         (None, 128)               0         \n",
      "_________________________________________________________________\n",
      "dropout_10 (Dropout)         (None, 128)               0         \n",
      "_________________________________________________________________\n",
      "dense_38 (Dense)             (None, 128)               16512     \n",
      "_________________________________________________________________\n",
      "dense_39 (Dense)             (None, 64)                8256      \n",
      "_________________________________________________________________\n",
      "dense_40 (Dense)             (None, 32)                2080      \n",
      "_________________________________________________________________\n",
      "dense_41 (Dense)             (None, 1)                 33        \n",
      "=================================================================\n",
      "Total params: 2,458,241\n",
      "Trainable params: 2,458,241\n",
      "Non-trainable params: 0\n",
      "_________________________________________________________________\n"
     ]
    }
   ],
   "source": [
    "model.summary()"
   ]
  },
  {
   "cell_type": "code",
   "execution_count": 108,
   "metadata": {},
   "outputs": [
    {
     "name": "stdout",
     "output_type": "stream",
     "text": [
      "Epoch 1/120\n",
      "26/26 [==============================] - 17s 604ms/step - loss: 0.0724 - val_loss: 0.0269\n",
      "Epoch 2/120\n",
      "26/26 [==============================] - 17s 638ms/step - loss: 0.0133 - val_loss: 0.0429\n",
      "Epoch 3/120\n",
      "26/26 [==============================] - 19s 743ms/step - loss: 0.0080 - val_loss: 0.0298\n",
      "Epoch 4/120\n",
      "26/26 [==============================] - 18s 671ms/step - loss: 0.0070 - val_loss: 0.0274\n",
      "Epoch 5/120\n",
      "26/26 [==============================] - 20s 760ms/step - loss: 0.0043 - val_loss: 0.0291\n",
      "Epoch 6/120\n",
      "26/26 [==============================] - 17s 653ms/step - loss: 0.0021 - val_loss: 0.0230\n",
      "Epoch 7/120\n",
      "26/26 [==============================] - 20s 785ms/step - loss: 0.0012 - val_loss: 0.0256\n",
      "Epoch 8/120\n",
      "26/26 [==============================] - 18s 688ms/step - loss: 8.6405e-04 - val_loss: 0.0244\n",
      "Epoch 9/120\n",
      "26/26 [==============================] - 19s 736ms/step - loss: 6.8409e-04 - val_loss: 0.0214\n",
      "Epoch 10/120\n",
      "26/26 [==============================] - 18s 711ms/step - loss: 5.5308e-04 - val_loss: 0.0219\n",
      "Epoch 11/120\n",
      "26/26 [==============================] - 18s 695ms/step - loss: 3.7993e-04 - val_loss: 0.0176\n",
      "Epoch 12/120\n",
      "26/26 [==============================] - 21s 821ms/step - loss: 3.9517e-04 - val_loss: 0.0183\n",
      "Epoch 13/120\n",
      "26/26 [==============================] - 19s 735ms/step - loss: 3.4359e-04 - val_loss: 0.0149\n",
      "Epoch 14/120\n",
      "26/26 [==============================] - 19s 729ms/step - loss: 3.7631e-04 - val_loss: 0.0147\n",
      "Epoch 15/120\n",
      "26/26 [==============================] - 21s 802ms/step - loss: 3.0562e-04 - val_loss: 0.0128\n",
      "Epoch 16/120\n",
      "26/26 [==============================] - 18s 695ms/step - loss: 2.5894e-04 - val_loss: 0.0115\n",
      "Epoch 17/120\n",
      "26/26 [==============================] - 20s 765ms/step - loss: 2.1296e-04 - val_loss: 0.0103\n",
      "Epoch 18/120\n",
      "26/26 [==============================] - 19s 720ms/step - loss: 1.7881e-04 - val_loss: 0.0100\n",
      "Epoch 19/120\n",
      "26/26 [==============================] - 18s 709ms/step - loss: 1.7156e-04 - val_loss: 0.0110\n",
      "Epoch 20/120\n",
      "26/26 [==============================] - 20s 756ms/step - loss: 2.0364e-04 - val_loss: 0.0089\n",
      "Epoch 21/120\n",
      "26/26 [==============================] - 19s 721ms/step - loss: 1.7340e-04 - val_loss: 0.0104\n",
      "Epoch 22/120\n",
      "26/26 [==============================] - 19s 742ms/step - loss: 1.8324e-04 - val_loss: 0.0095\n",
      "Epoch 23/120\n",
      "26/26 [==============================] - 19s 735ms/step - loss: 1.3267e-04 - val_loss: 0.0085\n",
      "Epoch 24/120\n",
      "12/26 [============>.................] - ETA: 10s - loss: 1.4814e-04"
     ]
    },
    {
     "ename": "KeyboardInterrupt",
     "evalue": "",
     "output_type": "error",
     "traceback": [
      "\u001b[1;31m---------------------------------------------------------------------------\u001b[0m",
      "\u001b[1;31mKeyboardInterrupt\u001b[0m                         Traceback (most recent call last)",
      "\u001b[1;32m<ipython-input-108-d77b90db0cac>\u001b[0m in \u001b[0;36m<module>\u001b[1;34m\u001b[0m\n\u001b[1;32m----> 1\u001b[1;33m model.fit(X_train, y_train, \n\u001b[0m\u001b[0;32m      2\u001b[0m           \u001b[0mvalidation_data\u001b[0m\u001b[1;33m=\u001b[0m\u001b[1;33m(\u001b[0m\u001b[0mX_val\u001b[0m\u001b[1;33m,\u001b[0m\u001b[0my_val\u001b[0m\u001b[1;33m)\u001b[0m\u001b[1;33m,\u001b[0m\u001b[1;33m\u001b[0m\u001b[1;33m\u001b[0m\u001b[0m\n\u001b[0;32m      3\u001b[0m           \u001b[0mbatch_size\u001b[0m\u001b[1;33m=\u001b[0m\u001b[1;36m64\u001b[0m\u001b[1;33m,\u001b[0m\u001b[1;33m\u001b[0m\u001b[1;33m\u001b[0m\u001b[0m\n\u001b[0;32m      4\u001b[0m           \u001b[0mepochs\u001b[0m\u001b[1;33m=\u001b[0m\u001b[1;36m120\u001b[0m\u001b[1;33m,\u001b[0m\u001b[1;33m\u001b[0m\u001b[1;33m\u001b[0m\u001b[0m\n\u001b[0;32m      5\u001b[0m           shuffle = True)\n",
      "\u001b[1;32m~\\AppData\\Roaming\\Python\\Python38\\site-packages\\keras\\engine\\training.py\u001b[0m in \u001b[0;36mfit\u001b[1;34m(self, x, y, batch_size, epochs, verbose, callbacks, validation_split, validation_data, shuffle, class_weight, sample_weight, initial_epoch, steps_per_epoch, validation_steps, validation_batch_size, validation_freq, max_queue_size, workers, use_multiprocessing)\u001b[0m\n\u001b[0;32m   1156\u001b[0m                 _r=1):\n\u001b[0;32m   1157\u001b[0m               \u001b[0mcallbacks\u001b[0m\u001b[1;33m.\u001b[0m\u001b[0mon_train_batch_begin\u001b[0m\u001b[1;33m(\u001b[0m\u001b[0mstep\u001b[0m\u001b[1;33m)\u001b[0m\u001b[1;33m\u001b[0m\u001b[1;33m\u001b[0m\u001b[0m\n\u001b[1;32m-> 1158\u001b[1;33m               \u001b[0mtmp_logs\u001b[0m \u001b[1;33m=\u001b[0m \u001b[0mself\u001b[0m\u001b[1;33m.\u001b[0m\u001b[0mtrain_function\u001b[0m\u001b[1;33m(\u001b[0m\u001b[0miterator\u001b[0m\u001b[1;33m)\u001b[0m\u001b[1;33m\u001b[0m\u001b[1;33m\u001b[0m\u001b[0m\n\u001b[0m\u001b[0;32m   1159\u001b[0m               \u001b[1;32mif\u001b[0m \u001b[0mdata_handler\u001b[0m\u001b[1;33m.\u001b[0m\u001b[0mshould_sync\u001b[0m\u001b[1;33m:\u001b[0m\u001b[1;33m\u001b[0m\u001b[1;33m\u001b[0m\u001b[0m\n\u001b[0;32m   1160\u001b[0m                 \u001b[0mcontext\u001b[0m\u001b[1;33m.\u001b[0m\u001b[0masync_wait\u001b[0m\u001b[1;33m(\u001b[0m\u001b[1;33m)\u001b[0m\u001b[1;33m\u001b[0m\u001b[1;33m\u001b[0m\u001b[0m\n",
      "\u001b[1;32m~\\AppData\\Roaming\\Python\\Python38\\site-packages\\tensorflow\\python\\eager\\def_function.py\u001b[0m in \u001b[0;36m__call__\u001b[1;34m(self, *args, **kwds)\u001b[0m\n\u001b[0;32m    887\u001b[0m \u001b[1;33m\u001b[0m\u001b[0m\n\u001b[0;32m    888\u001b[0m       \u001b[1;32mwith\u001b[0m \u001b[0mOptionalXlaContext\u001b[0m\u001b[1;33m(\u001b[0m\u001b[0mself\u001b[0m\u001b[1;33m.\u001b[0m\u001b[0m_jit_compile\u001b[0m\u001b[1;33m)\u001b[0m\u001b[1;33m:\u001b[0m\u001b[1;33m\u001b[0m\u001b[1;33m\u001b[0m\u001b[0m\n\u001b[1;32m--> 889\u001b[1;33m         \u001b[0mresult\u001b[0m \u001b[1;33m=\u001b[0m \u001b[0mself\u001b[0m\u001b[1;33m.\u001b[0m\u001b[0m_call\u001b[0m\u001b[1;33m(\u001b[0m\u001b[1;33m*\u001b[0m\u001b[0margs\u001b[0m\u001b[1;33m,\u001b[0m \u001b[1;33m**\u001b[0m\u001b[0mkwds\u001b[0m\u001b[1;33m)\u001b[0m\u001b[1;33m\u001b[0m\u001b[1;33m\u001b[0m\u001b[0m\n\u001b[0m\u001b[0;32m    890\u001b[0m \u001b[1;33m\u001b[0m\u001b[0m\n\u001b[0;32m    891\u001b[0m       \u001b[0mnew_tracing_count\u001b[0m \u001b[1;33m=\u001b[0m \u001b[0mself\u001b[0m\u001b[1;33m.\u001b[0m\u001b[0mexperimental_get_tracing_count\u001b[0m\u001b[1;33m(\u001b[0m\u001b[1;33m)\u001b[0m\u001b[1;33m\u001b[0m\u001b[1;33m\u001b[0m\u001b[0m\n",
      "\u001b[1;32m~\\AppData\\Roaming\\Python\\Python38\\site-packages\\tensorflow\\python\\eager\\def_function.py\u001b[0m in \u001b[0;36m_call\u001b[1;34m(self, *args, **kwds)\u001b[0m\n\u001b[0;32m    915\u001b[0m       \u001b[1;31m# In this case we have created variables on the first call, so we run the\u001b[0m\u001b[1;33m\u001b[0m\u001b[1;33m\u001b[0m\u001b[1;33m\u001b[0m\u001b[0m\n\u001b[0;32m    916\u001b[0m       \u001b[1;31m# defunned version which is guaranteed to never create variables.\u001b[0m\u001b[1;33m\u001b[0m\u001b[1;33m\u001b[0m\u001b[1;33m\u001b[0m\u001b[0m\n\u001b[1;32m--> 917\u001b[1;33m       \u001b[1;32mreturn\u001b[0m \u001b[0mself\u001b[0m\u001b[1;33m.\u001b[0m\u001b[0m_stateless_fn\u001b[0m\u001b[1;33m(\u001b[0m\u001b[1;33m*\u001b[0m\u001b[0margs\u001b[0m\u001b[1;33m,\u001b[0m \u001b[1;33m**\u001b[0m\u001b[0mkwds\u001b[0m\u001b[1;33m)\u001b[0m  \u001b[1;31m# pylint: disable=not-callable\u001b[0m\u001b[1;33m\u001b[0m\u001b[1;33m\u001b[0m\u001b[0m\n\u001b[0m\u001b[0;32m    918\u001b[0m     \u001b[1;32melif\u001b[0m \u001b[0mself\u001b[0m\u001b[1;33m.\u001b[0m\u001b[0m_stateful_fn\u001b[0m \u001b[1;32mis\u001b[0m \u001b[1;32mnot\u001b[0m \u001b[1;32mNone\u001b[0m\u001b[1;33m:\u001b[0m\u001b[1;33m\u001b[0m\u001b[1;33m\u001b[0m\u001b[0m\n\u001b[0;32m    919\u001b[0m       \u001b[1;31m# Release the lock early so that multiple threads can perform the call\u001b[0m\u001b[1;33m\u001b[0m\u001b[1;33m\u001b[0m\u001b[1;33m\u001b[0m\u001b[0m\n",
      "\u001b[1;32m~\\AppData\\Roaming\\Python\\Python38\\site-packages\\tensorflow\\python\\eager\\function.py\u001b[0m in \u001b[0;36m__call__\u001b[1;34m(self, *args, **kwargs)\u001b[0m\n\u001b[0;32m   3021\u001b[0m       (graph_function,\n\u001b[0;32m   3022\u001b[0m        filtered_flat_args) = self._maybe_define_function(args, kwargs)\n\u001b[1;32m-> 3023\u001b[1;33m     return graph_function._call_flat(\n\u001b[0m\u001b[0;32m   3024\u001b[0m         filtered_flat_args, captured_inputs=graph_function.captured_inputs)  # pylint: disable=protected-access\n\u001b[0;32m   3025\u001b[0m \u001b[1;33m\u001b[0m\u001b[0m\n",
      "\u001b[1;32m~\\AppData\\Roaming\\Python\\Python38\\site-packages\\tensorflow\\python\\eager\\function.py\u001b[0m in \u001b[0;36m_call_flat\u001b[1;34m(self, args, captured_inputs, cancellation_manager)\u001b[0m\n\u001b[0;32m   1958\u001b[0m         and executing_eagerly):\n\u001b[0;32m   1959\u001b[0m       \u001b[1;31m# No tape is watching; skip to running the function.\u001b[0m\u001b[1;33m\u001b[0m\u001b[1;33m\u001b[0m\u001b[1;33m\u001b[0m\u001b[0m\n\u001b[1;32m-> 1960\u001b[1;33m       return self._build_call_outputs(self._inference_function.call(\n\u001b[0m\u001b[0;32m   1961\u001b[0m           ctx, args, cancellation_manager=cancellation_manager))\n\u001b[0;32m   1962\u001b[0m     forward_backward = self._select_forward_and_backward_functions(\n",
      "\u001b[1;32m~\\AppData\\Roaming\\Python\\Python38\\site-packages\\tensorflow\\python\\eager\\function.py\u001b[0m in \u001b[0;36mcall\u001b[1;34m(self, ctx, args, cancellation_manager)\u001b[0m\n\u001b[0;32m    589\u001b[0m       \u001b[1;32mwith\u001b[0m \u001b[0m_InterpolateFunctionError\u001b[0m\u001b[1;33m(\u001b[0m\u001b[0mself\u001b[0m\u001b[1;33m)\u001b[0m\u001b[1;33m:\u001b[0m\u001b[1;33m\u001b[0m\u001b[1;33m\u001b[0m\u001b[0m\n\u001b[0;32m    590\u001b[0m         \u001b[1;32mif\u001b[0m \u001b[0mcancellation_manager\u001b[0m \u001b[1;32mis\u001b[0m \u001b[1;32mNone\u001b[0m\u001b[1;33m:\u001b[0m\u001b[1;33m\u001b[0m\u001b[1;33m\u001b[0m\u001b[0m\n\u001b[1;32m--> 591\u001b[1;33m           outputs = execute.execute(\n\u001b[0m\u001b[0;32m    592\u001b[0m               \u001b[0mstr\u001b[0m\u001b[1;33m(\u001b[0m\u001b[0mself\u001b[0m\u001b[1;33m.\u001b[0m\u001b[0msignature\u001b[0m\u001b[1;33m.\u001b[0m\u001b[0mname\u001b[0m\u001b[1;33m)\u001b[0m\u001b[1;33m,\u001b[0m\u001b[1;33m\u001b[0m\u001b[1;33m\u001b[0m\u001b[0m\n\u001b[0;32m    593\u001b[0m               \u001b[0mnum_outputs\u001b[0m\u001b[1;33m=\u001b[0m\u001b[0mself\u001b[0m\u001b[1;33m.\u001b[0m\u001b[0m_num_outputs\u001b[0m\u001b[1;33m,\u001b[0m\u001b[1;33m\u001b[0m\u001b[1;33m\u001b[0m\u001b[0m\n",
      "\u001b[1;32m~\\AppData\\Roaming\\Python\\Python38\\site-packages\\tensorflow\\python\\eager\\execute.py\u001b[0m in \u001b[0;36mquick_execute\u001b[1;34m(op_name, num_outputs, inputs, attrs, ctx, name)\u001b[0m\n\u001b[0;32m     57\u001b[0m   \u001b[1;32mtry\u001b[0m\u001b[1;33m:\u001b[0m\u001b[1;33m\u001b[0m\u001b[1;33m\u001b[0m\u001b[0m\n\u001b[0;32m     58\u001b[0m     \u001b[0mctx\u001b[0m\u001b[1;33m.\u001b[0m\u001b[0mensure_initialized\u001b[0m\u001b[1;33m(\u001b[0m\u001b[1;33m)\u001b[0m\u001b[1;33m\u001b[0m\u001b[1;33m\u001b[0m\u001b[0m\n\u001b[1;32m---> 59\u001b[1;33m     tensors = pywrap_tfe.TFE_Py_Execute(ctx._handle, device_name, op_name,\n\u001b[0m\u001b[0;32m     60\u001b[0m                                         inputs, attrs, num_outputs)\n\u001b[0;32m     61\u001b[0m   \u001b[1;32mexcept\u001b[0m \u001b[0mcore\u001b[0m\u001b[1;33m.\u001b[0m\u001b[0m_NotOkStatusException\u001b[0m \u001b[1;32mas\u001b[0m \u001b[0me\u001b[0m\u001b[1;33m:\u001b[0m\u001b[1;33m\u001b[0m\u001b[1;33m\u001b[0m\u001b[0m\n",
      "\u001b[1;31mKeyboardInterrupt\u001b[0m: "
     ]
    }
   ],
   "source": [
    "model.fit(X_train, y_train, \n",
    "          validation_data=(X_val,y_val),\n",
    "          batch_size=64, \n",
    "          epochs=120, \n",
    "          shuffle = True)"
   ]
  },
  {
   "cell_type": "code",
   "execution_count": 109,
   "metadata": {},
   "outputs": [],
   "source": [
    "predicted=model.predict(X_val)"
   ]
  },
  {
   "cell_type": "code",
   "execution_count": 110,
   "metadata": {},
   "outputs": [
    {
     "data": {
      "text/plain": [
       "<matplotlib.collections.PathCollection at 0x1bbb6a91220>"
      ]
     },
     "execution_count": 110,
     "metadata": {},
     "output_type": "execute_result"
    },
    {
     "data": {
      "image/png": "[encoded data removed]",
      "text/plain": [
       "<Figure size 432x288 with 1 Axes>"
      ]
     },
     "metadata": {
      "needs_background": "light"
     },
     "output_type": "display_data"
    }
   ],
   "source": [
    "plt.scatter(y_val,predicted)"
   ]
  },
  {
   "cell_type": "code",
   "execution_count": 120,
   "metadata": {},
   "outputs": [
    {
     "data": {
      "text/plain": [
       "<matplotlib.collections.PathCollection at 0x1bbbf9c2dc0>"
      ]
     },
     "execution_count": 120,
     "metadata": {},
     "output_type": "execute_result"
    },
    {
     "data": {
      "image/png": "[encoded data removed]",
      "text/plain": [
       "<Figure size 432x288 with 1 Axes>"
      ]
     },
     "metadata": {
      "needs_background": "light"
     },
     "output_type": "display_data"
    }
   ],
   "source": [
    "plt.scatter(y_train,(model.predict(X_train)-b[0])/m[0])"
   ]
  },
  {
   "cell_type": "code",
   "execution_count": 112,
   "metadata": {},
   "outputs": [
    {
     "data": {
      "text/plain": [
       "array([0.564, 0.428, 0.416, ..., 0.431, 0.412, 0.563])"
      ]
     },
     "execution_count": 112,
     "metadata": {},
     "output_type": "execute_result"
    }
   ],
   "source": [
    "y_train"
   ]
  },
  {
   "cell_type": "code",
   "execution_count": 122,
   "metadata": {},
   "outputs": [
    {
     "data": {
      "text/plain": [
       "array([[0.56363297],\n",
       "       [0.42551824],\n",
       "       [0.4206138 ],\n",
       "       ...,\n",
       "       [0.4257208 ],\n",
       "       [0.41911975],\n",
       "       [0.5623392 ]], dtype=float32)"
      ]
     },
     "execution_count": 122,
     "metadata": {},
     "output_type": "execute_result"
    }
   ],
   "source": [
    "(model.predict(X_train)-b[0])/m[0]"
   ]
  },
  {
   "cell_type": "code",
   "execution_count": 115,
   "metadata": {},
   "outputs": [],
   "source": [
    "m,b = np.polyfit(y_train,model.predict(X_train),1)"
   ]
  },
  {
   "cell_type": "code",
   "execution_count": 123,
   "metadata": {},
   "outputs": [
    {
     "data": {
      "text/plain": [
       "(array([0.43784698]), array([0.19821577]))"
      ]
     },
     "execution_count": 123,
     "metadata": {},
     "output_type": "execute_result"
    }
   ],
   "source": [
    "m,b"
   ]
  },
  {
   "cell_type": "code",
   "execution_count": 124,
   "metadata": {},
   "outputs": [],
   "source": [
    "model.save('source_sink_weights.h5')"
   ]
  },
  {
   "cell_type": "markdown",
   "metadata": {},
   "source": [
    "# Doublet"
   ]
  },
  {
   "cell_type": "code",
   "execution_count": 125,
   "metadata": {},
   "outputs": [
    {
     "name": "stdout",
     "output_type": "stream",
     "text": [
      "C:\\Users\\venka\\OneDrive\\Desktop\\BTP\\Data\\source_doublet_vortex\\train_data\\train\n"
     ]
    }
   ],
   "source": [
    "cd C:\\Users\\venka\\OneDrive\\Desktop\\BTP\\Data\\source_doublet_vortex\\train_data\\train"
   ]
  },
  {
   "cell_type": "code",
   "execution_count": 126,
   "metadata": {},
   "outputs": [],
   "source": [
    "X_train = np.load('doublet_train.npy')\n",
    "y_train = np.load('doublet_sth_train.npy')"
   ]
  },
  {
   "cell_type": "code",
   "execution_count": 127,
   "metadata": {},
   "outputs": [
    {
     "data": {
      "text/plain": [
       "<matplotlib.image.AxesImage at 0x1bbbd63a700>"
      ]
     },
     "execution_count": 127,
     "metadata": {},
     "output_type": "execute_result"
    },
    {
     "data": {
      "image/png": "[encoded data removed]",
      "text/plain": [
       "<Figure size 432x288 with 1 Axes>"
      ]
     },
     "metadata": {
      "needs_background": "light"
     },
     "output_type": "display_data"
    }
   ],
   "source": [
    "plt.imshow(X_train[0][:,:,2])"
   ]
  },
  {
   "cell_type": "code",
   "execution_count": 128,
   "metadata": {},
   "outputs": [
    {
     "name": "stdout",
     "output_type": "stream",
     "text": [
      "C:\\Users\\venka\\OneDrive\\Desktop\\BTP\\Data\\source_doublet_vortex\\train_data\\val\n"
     ]
    }
   ],
   "source": [
    "cd C:\\Users\\venka\\OneDrive\\Desktop\\BTP\\Data\\source_doublet_vortex\\train_data\\val"
   ]
  },
  {
   "cell_type": "code",
   "execution_count": 129,
   "metadata": {},
   "outputs": [],
   "source": [
    "X_val = np.load('doublet_val.npy')\n",
    "y_val = np.load('doublet_sth_val.npy')"
   ]
  },
  {
   "cell_type": "code",
   "execution_count": 130,
   "metadata": {},
   "outputs": [],
   "source": [
    "X_train = (X_train/500 + 1)/2\n",
    "X_val = (X_val/500 + 1)/2"
   ]
  },
  {
   "cell_type": "code",
   "execution_count": 131,
   "metadata": {},
   "outputs": [],
   "source": [
    "y_train = (y_train/500 + 1)/2\n",
    "y_val = (y_val/500 + 1)/2"
   ]
  },
  {
   "cell_type": "code",
   "execution_count": 132,
   "metadata": {},
   "outputs": [],
   "source": [
    "model = Sequential()\n",
    "\n",
    "model.add(Conv2D(512, (5), activation='relu',input_shape=(26,26,3)))\n",
    "model.add(MaxPooling2D((2, 2)))\n",
    "\n",
    "model.add(Conv2D(256, (4), activation='relu'))\n",
    "model.add(MaxPooling2D((2, 2)))\n",
    "\n",
    "model.add(Conv2D(128, (3), activation='relu'))\n",
    "model.add(MaxPooling2D((2, 2)))\n",
    "\n",
    "\n",
    "model.add(Flatten())\n",
    "model.add(Dropout(0.5))  #Dropout for regularization\n",
    "model.add(Dense(128, activation='relu'))\n",
    "model.add(Dense(64, activation='relu'))\n",
    "model.add(Dense(32, activation='relu'))\n",
    "model.add(Dense(1, activation='relu'))\n",
    "\n",
    "model.compile(loss='mse',optimizer='adam')"
   ]
  },
  {
   "cell_type": "code",
   "execution_count": 133,
   "metadata": {},
   "outputs": [
    {
     "name": "stdout",
     "output_type": "stream",
     "text": [
      "Epoch 1/120\n",
      "27/27 [==============================] - 22s 590ms/step - loss: 0.1696 - val_loss: 0.0485\n",
      "Epoch 2/120\n",
      "27/27 [==============================] - 17s 642ms/step - loss: 0.0109 - val_loss: 0.0337\n",
      "Epoch 3/120\n",
      "27/27 [==============================] - 17s 643ms/step - loss: 0.0044 - val_loss: 0.0537\n",
      "Epoch 4/120\n",
      "27/27 [==============================] - 17s 638ms/step - loss: 0.0028 - val_loss: 0.0443\n",
      "Epoch 5/120\n",
      "27/27 [==============================] - 18s 650ms/step - loss: 0.0027 - val_loss: 0.0464\n",
      "Epoch 6/120\n",
      "27/27 [==============================] - 17s 646ms/step - loss: 0.0015 - val_loss: 0.0488\n",
      "Epoch 7/120\n",
      "27/27 [==============================] - 17s 642ms/step - loss: 0.0012 - val_loss: 0.0417\n",
      "Epoch 8/120\n",
      "27/27 [==============================] - 17s 640ms/step - loss: 9.2615e-04 - val_loss: 0.0401\n",
      "Epoch 9/120\n",
      "27/27 [==============================] - 17s 646ms/step - loss: 7.9936e-04 - val_loss: 0.0415\n",
      "Epoch 10/120\n",
      "27/27 [==============================] - 18s 688ms/step - loss: 5.2290e-04 - val_loss: 0.0404\n",
      "Epoch 11/120\n",
      "27/27 [==============================] - 18s 655ms/step - loss: 4.3597e-04 - val_loss: 0.0360\n",
      "Epoch 12/120\n",
      "27/27 [==============================] - 18s 664ms/step - loss: 3.9131e-04 - val_loss: 0.0334\n",
      "Epoch 13/120\n",
      "27/27 [==============================] - 17s 642ms/step - loss: 3.4329e-04 - val_loss: 0.0318\n",
      "Epoch 14/120\n",
      "27/27 [==============================] - 17s 644ms/step - loss: 2.3843e-04 - val_loss: 0.0327\n",
      "Epoch 15/120\n",
      "27/27 [==============================] - 17s 641ms/step - loss: 1.9947e-04 - val_loss: 0.0292\n",
      "Epoch 16/120\n",
      "27/27 [==============================] - 18s 659ms/step - loss: 1.6846e-04 - val_loss: 0.0281\n",
      "Epoch 17/120\n",
      "27/27 [==============================] - 18s 661ms/step - loss: 1.7269e-04 - val_loss: 0.0273\n",
      "Epoch 18/120\n",
      "27/27 [==============================] - 18s 668ms/step - loss: 1.0679e-04 - val_loss: 0.0284\n",
      "Epoch 19/120\n",
      "27/27 [==============================] - 18s 672ms/step - loss: 1.0381e-04 - val_loss: 0.0274\n",
      "Epoch 20/120\n",
      "27/27 [==============================] - 18s 668ms/step - loss: 7.9288e-05 - val_loss: 0.0283\n",
      "Epoch 21/120\n",
      "27/27 [==============================] - 18s 679ms/step - loss: 5.9463e-05 - val_loss: 0.0279\n",
      "Epoch 22/120\n",
      "27/27 [==============================] - 18s 673ms/step - loss: 6.0726e-05 - val_loss: 0.0266\n",
      "Epoch 23/120\n",
      "27/27 [==============================] - 18s 664ms/step - loss: 4.5487e-05 - val_loss: 0.0256\n",
      "Epoch 24/120\n",
      "27/27 [==============================] - 18s 659ms/step - loss: 4.1524e-05 - val_loss: 0.0257\n",
      "Epoch 25/120\n",
      "27/27 [==============================] - 17s 642ms/step - loss: 3.2533e-05 - val_loss: 0.0257\n",
      "Epoch 26/120\n",
      "27/27 [==============================] - 18s 657ms/step - loss: 3.1065e-05 - val_loss: 0.0251\n",
      "Epoch 27/120\n",
      "27/27 [==============================] - 17s 633ms/step - loss: 2.7561e-05 - val_loss: 0.0240\n",
      "Epoch 28/120\n",
      "27/27 [==============================] - 17s 643ms/step - loss: 2.2284e-05 - val_loss: 0.0245\n",
      "Epoch 29/120\n",
      "27/27 [==============================] - 17s 637ms/step - loss: 2.2101e-05 - val_loss: 0.0241\n",
      "Epoch 30/120\n",
      "27/27 [==============================] - 18s 655ms/step - loss: 2.2404e-05 - val_loss: 0.0239\n",
      "Epoch 31/120\n",
      "27/27 [==============================] - 17s 642ms/step - loss: 1.9069e-05 - val_loss: 0.0242\n",
      "Epoch 32/120\n",
      "27/27 [==============================] - 17s 640ms/step - loss: 2.0418e-05 - val_loss: 0.0227\n",
      "Epoch 33/120\n",
      "27/27 [==============================] - 17s 634ms/step - loss: 1.8482e-05 - val_loss: 0.0228\n",
      "Epoch 34/120\n",
      "27/27 [==============================] - 17s 632ms/step - loss: 1.7484e-05 - val_loss: 0.0236\n",
      "Epoch 35/120\n",
      "27/27 [==============================] - 17s 649ms/step - loss: 1.8371e-05 - val_loss: 0.0234\n",
      "Epoch 36/120\n",
      "27/27 [==============================] - 17s 641ms/step - loss: 2.1596e-05 - val_loss: 0.0229\n",
      "Epoch 37/120\n",
      "27/27 [==============================] - 17s 637ms/step - loss: 1.6590e-05 - val_loss: 0.0228\n",
      "Epoch 38/120\n",
      "27/27 [==============================] - 18s 667ms/step - loss: 1.6046e-05 - val_loss: 0.0230\n",
      "Epoch 39/120\n",
      "27/27 [==============================] - 18s 672ms/step - loss: 1.4125e-05 - val_loss: 0.0228\n",
      "Epoch 40/120\n",
      "27/27 [==============================] - 18s 661ms/step - loss: 1.4443e-05 - val_loss: 0.0227\n",
      "Epoch 41/120\n",
      "27/27 [==============================] - 17s 640ms/step - loss: 1.3021e-05 - val_loss: 0.0228\n",
      "Epoch 42/120\n",
      "27/27 [==============================] - 18s 661ms/step - loss: 1.4222e-05 - val_loss: 0.0227\n",
      "Epoch 43/120\n",
      "27/27 [==============================] - 18s 668ms/step - loss: 1.6782e-05 - val_loss: 0.0222\n",
      "Epoch 44/120\n",
      "27/27 [==============================] - 18s 664ms/step - loss: 2.0968e-05 - val_loss: 0.0232\n",
      "Epoch 45/120\n",
      "27/27 [==============================] - 18s 660ms/step - loss: 1.9410e-05 - val_loss: 0.0221\n",
      "Epoch 46/120\n",
      "27/27 [==============================] - 18s 661ms/step - loss: 1.5792e-05 - val_loss: 0.0225\n",
      "Epoch 47/120\n",
      "27/27 [==============================] - 18s 660ms/step - loss: 1.7018e-05 - val_loss: 0.0221\n",
      "Epoch 48/120\n",
      "27/27 [==============================] - 18s 657ms/step - loss: 1.2131e-05 - val_loss: 0.0222\n",
      "Epoch 49/120\n",
      "27/27 [==============================] - 19s 685ms/step - loss: 1.5319e-05 - val_loss: 0.0218\n",
      "Epoch 50/120\n",
      "27/27 [==============================] - 19s 686ms/step - loss: 1.5682e-05 - val_loss: 0.0222\n",
      "Epoch 51/120\n",
      "27/27 [==============================] - 18s 682ms/step - loss: 1.2746e-05 - val_loss: 0.0222\n",
      "Epoch 52/120\n",
      "27/27 [==============================] - 18s 676ms/step - loss: 1.2293e-05 - val_loss: 0.0223\n",
      "Epoch 53/120\n",
      "27/27 [==============================] - 18s 671ms/step - loss: 1.1177e-05 - val_loss: 0.0219\n",
      "Epoch 54/120\n",
      "27/27 [==============================] - 18s 662ms/step - loss: 1.0757e-05 - val_loss: 0.0220\n",
      "Epoch 55/120\n",
      "27/27 [==============================] - 18s 659ms/step - loss: 2.0126e-05 - val_loss: 0.0213\n",
      "Epoch 56/120\n",
      "27/27 [==============================] - 18s 666ms/step - loss: 2.5784e-05 - val_loss: 0.0219\n",
      "Epoch 57/120\n",
      "27/27 [==============================] - 18s 678ms/step - loss: 1.2968e-05 - val_loss: 0.0213\n",
      "Epoch 58/120\n",
      "27/27 [==============================] - 18s 668ms/step - loss: 1.2526e-05 - val_loss: 0.0216\n",
      "Epoch 59/120\n",
      "27/27 [==============================] - 18s 660ms/step - loss: 1.6505e-05 - val_loss: 0.0217\n",
      "Epoch 60/120\n",
      "27/27 [==============================] - 17s 637ms/step - loss: 1.6337e-05 - val_loss: 0.0214\n",
      "Epoch 61/120\n",
      "27/27 [==============================] - 17s 638ms/step - loss: 1.1373e-05 - val_loss: 0.0219\n",
      "Epoch 62/120\n",
      "27/27 [==============================] - 17s 641ms/step - loss: 1.2739e-05 - val_loss: 0.0216\n",
      "Epoch 63/120\n",
      "27/27 [==============================] - 17s 639ms/step - loss: 1.1572e-05 - val_loss: 0.0220\n",
      "Epoch 64/120\n",
      "27/27 [==============================] - 17s 636ms/step - loss: 1.9224e-05 - val_loss: 0.0219\n",
      "Epoch 65/120\n",
      "27/27 [==============================] - 17s 641ms/step - loss: 1.3238e-05 - val_loss: 0.0212\n",
      "Epoch 66/120\n",
      "27/27 [==============================] - 17s 641ms/step - loss: 1.2306e-05 - val_loss: 0.0210\n",
      "Epoch 67/120\n",
      "27/27 [==============================] - 17s 640ms/step - loss: 1.3475e-05 - val_loss: 0.0214\n",
      "Epoch 68/120\n",
      "27/27 [==============================] - 17s 636ms/step - loss: 1.5359e-05 - val_loss: 0.0208\n",
      "Epoch 69/120\n",
      "27/27 [==============================] - 18s 663ms/step - loss: 1.7226e-05 - val_loss: 0.0208\n",
      "Epoch 70/120\n",
      "27/27 [==============================] - 17s 643ms/step - loss: 1.2476e-05 - val_loss: 0.0203\n",
      "Epoch 71/120\n",
      "27/27 [==============================] - 18s 685ms/step - loss: 1.9163e-05 - val_loss: 0.0200\n",
      "Epoch 72/120\n",
      "27/27 [==============================] - 18s 675ms/step - loss: 2.2760e-05 - val_loss: 0.0206\n",
      "Epoch 73/120\n",
      "27/27 [==============================] - 18s 650ms/step - loss: 1.1693e-05 - val_loss: 0.0199\n",
      "Epoch 74/120\n",
      "27/27 [==============================] - 17s 635ms/step - loss: 1.8903e-05 - val_loss: 0.0216\n",
      "Epoch 75/120\n",
      "27/27 [==============================] - 17s 636ms/step - loss: 5.0036e-05 - val_loss: 0.0202\n",
      "Epoch 76/120\n",
      "27/27 [==============================] - 17s 645ms/step - loss: 2.9527e-05 - val_loss: 0.0209\n",
      "Epoch 77/120\n",
      "27/27 [==============================] - 17s 637ms/step - loss: 2.8232e-05 - val_loss: 0.0198\n",
      "Epoch 78/120\n",
      "27/27 [==============================] - 17s 633ms/step - loss: 1.0557e-05 - val_loss: 0.0191\n",
      "Epoch 79/120\n",
      "27/27 [==============================] - 17s 636ms/step - loss: 1.6726e-05 - val_loss: 0.0194\n",
      "Epoch 80/120\n",
      "27/27 [==============================] - 17s 639ms/step - loss: 1.0436e-05 - val_loss: 0.0199\n",
      "Epoch 81/120\n",
      "27/27 [==============================] - 17s 632ms/step - loss: 1.3677e-05 - val_loss: 0.0198\n",
      "Epoch 82/120\n",
      "27/27 [==============================] - 17s 630ms/step - loss: 8.1798e-06 - val_loss: 0.0190\n",
      "Epoch 83/120\n",
      "27/27 [==============================] - 17s 635ms/step - loss: 1.8972e-05 - val_loss: 0.0202\n",
      "Epoch 84/120\n",
      "27/27 [==============================] - 18s 660ms/step - loss: 1.3560e-05 - val_loss: 0.0191\n",
      "Epoch 85/120\n",
      "27/27 [==============================] - 18s 658ms/step - loss: 1.4196e-05 - val_loss: 0.0194\n",
      "Epoch 86/120\n",
      "27/27 [==============================] - 18s 658ms/step - loss: 1.0686e-05 - val_loss: 0.0198\n",
      "Epoch 87/120\n",
      "27/27 [==============================] - 18s 675ms/step - loss: 1.5149e-05 - val_loss: 0.0190\n",
      "Epoch 88/120\n",
      "27/27 [==============================] - 18s 682ms/step - loss: 1.5844e-05 - val_loss: 0.0189\n",
      "Epoch 89/120\n",
      "27/27 [==============================] - 19s 703ms/step - loss: 1.3882e-05 - val_loss: 0.0201\n",
      "Epoch 90/120\n",
      "27/27 [==============================] - 19s 706ms/step - loss: 4.8814e-05 - val_loss: 0.0179\n",
      "Epoch 91/120\n",
      "27/27 [==============================] - 18s 685ms/step - loss: 9.8117e-06 - val_loss: 0.0186\n",
      "Epoch 92/120\n",
      "27/27 [==============================] - 18s 673ms/step - loss: 2.6659e-05 - val_loss: 0.0179\n",
      "Epoch 93/120\n",
      "27/27 [==============================] - 18s 670ms/step - loss: 2.2018e-05 - val_loss: 0.0185\n",
      "Epoch 94/120\n",
      "27/27 [==============================] - 18s 661ms/step - loss: 2.3289e-05 - val_loss: 0.0175\n",
      "Epoch 95/120\n",
      "27/27 [==============================] - 18s 657ms/step - loss: 1.7490e-05 - val_loss: 0.0182\n",
      "Epoch 96/120\n",
      "27/27 [==============================] - 18s 652ms/step - loss: 9.3312e-06 - val_loss: 0.0169\n",
      "Epoch 97/120\n",
      "27/27 [==============================] - 18s 649ms/step - loss: 2.8440e-05 - val_loss: 0.0177\n",
      "Epoch 98/120\n",
      "27/27 [==============================] - 18s 651ms/step - loss: 1.7824e-05 - val_loss: 0.0163\n",
      "Epoch 99/120\n",
      "27/27 [==============================] - 18s 653ms/step - loss: 1.2193e-05 - val_loss: 0.0176\n",
      "Epoch 100/120\n",
      "27/27 [==============================] - 18s 651ms/step - loss: 8.2609e-06 - val_loss: 0.0174\n",
      "Epoch 101/120\n",
      "27/27 [==============================] - 18s 651ms/step - loss: 1.6214e-05 - val_loss: 0.0179\n",
      "Epoch 102/120\n",
      "27/27 [==============================] - 18s 652ms/step - loss: 2.2038e-05 - val_loss: 0.0163\n",
      "Epoch 103/120\n",
      "27/27 [==============================] - 18s 654ms/step - loss: 2.5541e-05 - val_loss: 0.0168\n",
      "Epoch 104/120\n",
      "27/27 [==============================] - 18s 663ms/step - loss: 1.5193e-05 - val_loss: 0.0171\n",
      "Epoch 105/120\n",
      "27/27 [==============================] - 18s 655ms/step - loss: 2.4771e-05 - val_loss: 0.0172\n",
      "Epoch 106/120\n",
      "27/27 [==============================] - 18s 668ms/step - loss: 2.1362e-05 - val_loss: 0.0158\n",
      "Epoch 107/120\n",
      "27/27 [==============================] - 18s 676ms/step - loss: 1.5040e-05 - val_loss: 0.0161\n",
      "Epoch 108/120\n",
      "27/27 [==============================] - 18s 683ms/step - loss: 2.5743e-05 - val_loss: 0.0165\n",
      "Epoch 109/120\n",
      "27/27 [==============================] - 19s 687ms/step - loss: 1.9159e-05 - val_loss: 0.0162\n",
      "Epoch 110/120\n",
      "27/27 [==============================] - 19s 719ms/step - loss: 1.2113e-05 - val_loss: 0.0154\n",
      "Epoch 111/120\n",
      "27/27 [==============================] - 19s 715ms/step - loss: 1.7078e-05 - val_loss: 0.0154\n",
      "Epoch 112/120\n",
      "27/27 [==============================] - 19s 694ms/step - loss: 1.3916e-05 - val_loss: 0.0159\n",
      "Epoch 113/120\n",
      "27/27 [==============================] - 19s 703ms/step - loss: 8.8589e-06 - val_loss: 0.0155\n",
      "Epoch 114/120\n",
      "27/27 [==============================] - 19s 708ms/step - loss: 9.8889e-06 - val_loss: 0.0154\n",
      "Epoch 115/120\n",
      "27/27 [==============================] - 19s 717ms/step - loss: 1.9175e-05 - val_loss: 0.0148\n",
      "Epoch 116/120\n",
      "27/27 [==============================] - 19s 718ms/step - loss: 1.6753e-05 - val_loss: 0.0160\n",
      "Epoch 117/120\n",
      "27/27 [==============================] - 19s 706ms/step - loss: 1.9289e-05 - val_loss: 0.0159\n",
      "Epoch 118/120\n",
      "27/27 [==============================] - 19s 706ms/step - loss: 2.5482e-05 - val_loss: 0.0160\n",
      "Epoch 119/120\n",
      "27/27 [==============================] - 19s 707ms/step - loss: 4.2249e-05 - val_loss: 0.0138\n",
      "Epoch 120/120\n",
      "27/27 [==============================] - 19s 694ms/step - loss: 1.7010e-05 - val_loss: 0.0139\n"
     ]
    },
    {
     "data": {
      "text/plain": [
       "<keras.callbacks.History at 0x1bbbd423f10>"
      ]
     },
     "execution_count": 133,
     "metadata": {},
     "output_type": "execute_result"
    }
   ],
   "source": [
    "model.fit(X_train, y_train, \n",
    "          validation_data=(X_val,y_val),\n",
    "          batch_size=64, \n",
    "          epochs=120, \n",
    "          shuffle = True)"
   ]
  },
  {
   "cell_type": "code",
   "execution_count": 134,
   "metadata": {},
   "outputs": [],
   "source": [
    "m,b = np.polyfit(y_train,model.predict(X_train),1)"
   ]
  },
  {
   "cell_type": "code",
   "execution_count": 138,
   "metadata": {},
   "outputs": [
    {
     "data": {
      "text/plain": [
       "(array([0.35163331]), array([0.24319486]))"
      ]
     },
     "execution_count": 138,
     "metadata": {},
     "output_type": "execute_result"
    }
   ],
   "source": [
    "m,b"
   ]
  },
  {
   "cell_type": "code",
   "execution_count": 137,
   "metadata": {},
   "outputs": [
    {
     "data": {
      "text/plain": [
       "<matplotlib.collections.PathCollection at 0x1bbb9000af0>"
      ]
     },
     "execution_count": 137,
     "metadata": {},
     "output_type": "execute_result"
    },
    {
     "data": {
      "image/png": "[encoded data removed]",
      "text/plain": [
       "<Figure size 432x288 with 1 Axes>"
      ]
     },
     "metadata": {
      "needs_background": "light"
     },
     "output_type": "display_data"
    }
   ],
   "source": [
    "plt.scatter(y_val,(model.predict(X_val)-b[0])/m[0])"
   ]
  },
  {
   "cell_type": "code",
   "execution_count": 141,
   "metadata": {},
   "outputs": [],
   "source": [
    "model.save('doublet_weights.h5')"
   ]
  },
  {
   "cell_type": "markdown",
   "metadata": {},
   "source": [
    "# Vortex"
   ]
  },
  {
   "cell_type": "code",
   "execution_count": 142,
   "metadata": {},
   "outputs": [
    {
     "name": "stdout",
     "output_type": "stream",
     "text": [
      "C:\\Users\\venka\\OneDrive\\Desktop\\BTP\\Data\\source_doublet_vortex\\train_data\\train\n"
     ]
    }
   ],
   "source": [
    "cd C:\\Users\\venka\\OneDrive\\Desktop\\BTP\\Data\\source_doublet_vortex\\train_data\\train"
   ]
  },
  {
   "cell_type": "code",
   "execution_count": 143,
   "metadata": {},
   "outputs": [],
   "source": [
    "X_train = np.load('vortex_train.npy')\n",
    "y_train = np.load('vortex_sth_train.npy')"
   ]
  },
  {
   "cell_type": "code",
   "execution_count": 144,
   "metadata": {},
   "outputs": [
    {
     "data": {
      "text/plain": [
       "<matplotlib.image.AxesImage at 0x1bbb59ec9a0>"
      ]
     },
     "execution_count": 144,
     "metadata": {},
     "output_type": "execute_result"
    },
    {
     "data": {
      "image/png": "[encoded data removed]",
      "text/plain": [
       "<Figure size 432x288 with 1 Axes>"
      ]
     },
     "metadata": {
      "needs_background": "light"
     },
     "output_type": "display_data"
    }
   ],
   "source": [
    "plt.imshow(X_train[0][:,:,2])"
   ]
  },
  {
   "cell_type": "code",
   "execution_count": 145,
   "metadata": {},
   "outputs": [
    {
     "name": "stdout",
     "output_type": "stream",
     "text": [
      "C:\\Users\\venka\\OneDrive\\Desktop\\BTP\\Data\\source_doublet_vortex\\train_data\\val\n"
     ]
    }
   ],
   "source": [
    "cd C:\\Users\\venka\\OneDrive\\Desktop\\BTP\\Data\\source_doublet_vortex\\train_data\\val"
   ]
  },
  {
   "cell_type": "code",
   "execution_count": 147,
   "metadata": {},
   "outputs": [],
   "source": [
    "X_val = np.load('vortex_val.npy')\n",
    "y_val = np.load('vortex_sth_val.npy')"
   ]
  },
  {
   "cell_type": "code",
   "execution_count": 148,
   "metadata": {},
   "outputs": [],
   "source": [
    "X_train = (X_train/500 + 1)/2\n",
    "X_val = (X_val/500 + 1)/2"
   ]
  },
  {
   "cell_type": "code",
   "execution_count": 149,
   "metadata": {},
   "outputs": [],
   "source": [
    "y_train = (y_train/500 + 1)/2\n",
    "y_val = (y_val/500 + 1)/2"
   ]
  },
  {
   "cell_type": "code",
   "execution_count": 150,
   "metadata": {},
   "outputs": [],
   "source": [
    "model = Sequential()\n",
    "\n",
    "model.add(Conv2D(512, (5), activation='relu',input_shape=(26,26,3)))\n",
    "model.add(MaxPooling2D((2, 2)))\n",
    "\n",
    "model.add(Conv2D(256, (4), activation='relu'))\n",
    "model.add(MaxPooling2D((2, 2)))\n",
    "\n",
    "model.add(Conv2D(128, (3), activation='relu'))\n",
    "model.add(MaxPooling2D((2, 2)))\n",
    "\n",
    "\n",
    "model.add(Flatten())\n",
    "model.add(Dropout(0.5))  #Dropout for regularization\n",
    "model.add(Dense(128, activation='relu'))\n",
    "model.add(Dense(64, activation='relu'))\n",
    "model.add(Dense(32, activation='relu'))\n",
    "model.add(Dense(1, activation='relu'))\n",
    "\n",
    "model.compile(loss='mse',optimizer='adam')"
   ]
  },
  {
   "cell_type": "code",
   "execution_count": 151,
   "metadata": {},
   "outputs": [
    {
     "name": "stdout",
     "output_type": "stream",
     "text": [
      "Epoch 1/120\n",
      "26/26 [==============================] - 18s 599ms/step - loss: 0.1036 - val_loss: 0.0021\n",
      "Epoch 2/120\n",
      "26/26 [==============================] - 17s 635ms/step - loss: 0.0084 - val_loss: 0.0297\n",
      "Epoch 3/120\n",
      "26/26 [==============================] - 17s 649ms/step - loss: 0.0042 - val_loss: 0.0454\n",
      "Epoch 4/120\n",
      "26/26 [==============================] - 17s 639ms/step - loss: 0.0026 - val_loss: 0.0426\n",
      "Epoch 5/120\n",
      "26/26 [==============================] - 17s 645ms/step - loss: 0.0020 - val_loss: 0.0477\n",
      "Epoch 6/120\n",
      "26/26 [==============================] - 17s 657ms/step - loss: 0.0013 - val_loss: 0.0456\n",
      "Epoch 7/120\n",
      "26/26 [==============================] - 17s 645ms/step - loss: 0.0010 - val_loss: 0.0455\n",
      "Epoch 8/120\n",
      "26/26 [==============================] - 18s 690ms/step - loss: 7.8197e-04 - val_loss: 0.0476\n",
      "Epoch 9/120\n",
      "26/26 [==============================] - 17s 665ms/step - loss: 7.0785e-04 - val_loss: 0.0463\n",
      "Epoch 10/120\n",
      "26/26 [==============================] - 17s 647ms/step - loss: 5.5564e-04 - val_loss: 0.0461\n",
      "Epoch 11/120\n",
      "26/26 [==============================] - 17s 640ms/step - loss: 5.5725e-04 - val_loss: 0.0395\n",
      "Epoch 12/120\n",
      "26/26 [==============================] - 18s 676ms/step - loss: 4.3924e-04 - val_loss: 0.0364\n",
      "Epoch 13/120\n",
      "26/26 [==============================] - 18s 680ms/step - loss: 2.8933e-04 - val_loss: 0.0386\n",
      "Epoch 14/120\n",
      "26/26 [==============================] - 18s 673ms/step - loss: 2.4223e-04 - val_loss: 0.0365\n",
      "Epoch 15/120\n",
      "26/26 [==============================] - 17s 672ms/step - loss: 1.8463e-04 - val_loss: 0.0359\n",
      "Epoch 16/120\n",
      "26/26 [==============================] - 17s 654ms/step - loss: 1.7560e-04 - val_loss: 0.0341\n",
      "Epoch 17/120\n",
      "26/26 [==============================] - 17s 666ms/step - loss: 1.7961e-04 - val_loss: 0.0334\n",
      "Epoch 18/120\n",
      "26/26 [==============================] - 18s 680ms/step - loss: 1.4195e-04 - val_loss: 0.0324\n",
      "Epoch 19/120\n",
      "26/26 [==============================] - 17s 662ms/step - loss: 1.3051e-04 - val_loss: 0.0308\n",
      "Epoch 20/120\n",
      "26/26 [==============================] - 17s 667ms/step - loss: 1.1728e-04 - val_loss: 0.0296\n",
      "Epoch 21/120\n",
      "26/26 [==============================] - 19s 723ms/step - loss: 1.0106e-04 - val_loss: 0.0303\n",
      "Epoch 22/120\n",
      "26/26 [==============================] - 17s 656ms/step - loss: 9.9681e-05 - val_loss: 0.0302\n",
      "Epoch 23/120\n",
      "26/26 [==============================] - 17s 637ms/step - loss: 8.7891e-05 - val_loss: 0.0288\n",
      "Epoch 24/120\n",
      "26/26 [==============================] - 17s 635ms/step - loss: 9.4290e-05 - val_loss: 0.0294\n",
      "Epoch 25/120\n",
      "26/26 [==============================] - 18s 693ms/step - loss: 7.0051e-05 - val_loss: 0.0280\n",
      "Epoch 26/120\n",
      "26/26 [==============================] - 19s 750ms/step - loss: 6.8021e-05 - val_loss: 0.0293\n",
      "Epoch 27/120\n",
      "26/26 [==============================] - 18s 692ms/step - loss: 5.7918e-05 - val_loss: 0.0295\n",
      "Epoch 28/120\n",
      "26/26 [==============================] - 18s 695ms/step - loss: 7.5232e-05 - val_loss: 0.0286\n",
      "Epoch 29/120\n",
      "26/26 [==============================] - 18s 682ms/step - loss: 5.0986e-05 - val_loss: 0.0292\n",
      "Epoch 30/120\n",
      "26/26 [==============================] - 17s 634ms/step - loss: 5.6707e-05 - val_loss: 0.0273\n",
      "Epoch 31/120\n",
      "26/26 [==============================] - 16s 636ms/step - loss: 5.7365e-05 - val_loss: 0.0273\n",
      "Epoch 32/120\n",
      "26/26 [==============================] - 17s 675ms/step - loss: 4.0779e-05 - val_loss: 0.0275\n",
      "Epoch 33/120\n",
      "26/26 [==============================] - 20s 763ms/step - loss: 4.3481e-05 - val_loss: 0.0267\n",
      "Epoch 34/120\n",
      "26/26 [==============================] - 20s 782ms/step - loss: 4.8751e-05 - val_loss: 0.0280\n",
      "Epoch 35/120\n",
      "26/26 [==============================] - 20s 753ms/step - loss: 4.1835e-05 - val_loss: 0.0274\n",
      "Epoch 36/120\n",
      "26/26 [==============================] - 18s 679ms/step - loss: 4.2756e-05 - val_loss: 0.0282\n",
      "Epoch 37/120\n",
      "26/26 [==============================] - 17s 661ms/step - loss: 6.2515e-05 - val_loss: 0.0285\n",
      "Epoch 38/120\n",
      "26/26 [==============================] - 17s 650ms/step - loss: 8.5209e-05 - val_loss: 0.0276\n",
      "Epoch 39/120\n",
      "26/26 [==============================] - 17s 652ms/step - loss: 1.6060e-04 - val_loss: 0.0269\n",
      "Epoch 40/120\n",
      "26/26 [==============================] - 17s 651ms/step - loss: 4.3253e-05 - val_loss: 0.0264\n",
      "Epoch 41/120\n",
      "26/26 [==============================] - 17s 649ms/step - loss: 9.4624e-05 - val_loss: 0.0282\n",
      "Epoch 42/120\n",
      "26/26 [==============================] - 17s 664ms/step - loss: 4.5635e-05 - val_loss: 0.0269\n",
      "Epoch 43/120\n",
      "26/26 [==============================] - 17s 674ms/step - loss: 4.6725e-05 - val_loss: 0.0268\n",
      "Epoch 44/120\n",
      "26/26 [==============================] - 17s 647ms/step - loss: 3.0073e-05 - val_loss: 0.0278\n",
      "Epoch 45/120\n",
      "26/26 [==============================] - 16s 630ms/step - loss: 6.2826e-05 - val_loss: 0.0260\n",
      "Epoch 46/120\n",
      "26/26 [==============================] - 16s 634ms/step - loss: 3.3696e-05 - val_loss: 0.0269\n",
      "Epoch 47/120\n",
      "26/26 [==============================] - 17s 655ms/step - loss: 6.9798e-05 - val_loss: 0.0266\n",
      "Epoch 48/120\n",
      "26/26 [==============================] - 17s 670ms/step - loss: 3.0067e-05 - val_loss: 0.0258\n",
      "Epoch 49/120\n",
      "26/26 [==============================] - 18s 679ms/step - loss: 7.4552e-05 - val_loss: 0.0233\n",
      "Epoch 50/120\n",
      "26/26 [==============================] - 18s 685ms/step - loss: 1.2252e-04 - val_loss: 0.0283\n",
      "Epoch 51/120\n",
      "26/26 [==============================] - 17s 660ms/step - loss: 4.5868e-05 - val_loss: 0.0285\n",
      "Epoch 52/120\n",
      "26/26 [==============================] - 18s 676ms/step - loss: 8.2284e-05 - val_loss: 0.0281\n",
      "Epoch 53/120\n",
      "26/26 [==============================] - 17s 661ms/step - loss: 9.3242e-05 - val_loss: 0.0261\n",
      "Epoch 54/120\n",
      "26/26 [==============================] - 18s 707ms/step - loss: 1.1487e-04 - val_loss: 0.0252\n",
      "Epoch 55/120\n",
      "26/26 [==============================] - 18s 710ms/step - loss: 4.9845e-05 - val_loss: 0.0265\n",
      "Epoch 56/120\n",
      "26/26 [==============================] - 18s 683ms/step - loss: 3.8787e-05 - val_loss: 0.0255\n",
      "Epoch 57/120\n",
      "26/26 [==============================] - 17s 637ms/step - loss: 2.2182e-05 - val_loss: 0.0257\n",
      "Epoch 58/120\n",
      "26/26 [==============================] - 17s 649ms/step - loss: 4.0309e-05 - val_loss: 0.0234\n",
      "Epoch 59/120\n",
      "26/26 [==============================] - 16s 637ms/step - loss: 6.5228e-05 - val_loss: 0.0265\n",
      "Epoch 60/120\n",
      "26/26 [==============================] - 16s 635ms/step - loss: 2.9574e-05 - val_loss: 0.0252\n",
      "Epoch 61/120\n",
      "26/26 [==============================] - 16s 629ms/step - loss: 2.0932e-05 - val_loss: 0.0267\n",
      "Epoch 62/120\n",
      "26/26 [==============================] - 16s 628ms/step - loss: 2.0118e-05 - val_loss: 0.0264\n",
      "Epoch 63/120\n",
      "26/26 [==============================] - 16s 634ms/step - loss: 2.6601e-05 - val_loss: 0.0260\n",
      "Epoch 64/120\n",
      "26/26 [==============================] - 16s 633ms/step - loss: 1.9162e-05 - val_loss: 0.0261\n",
      "Epoch 65/120\n",
      "26/26 [==============================] - 16s 633ms/step - loss: 1.8538e-05 - val_loss: 0.0260\n",
      "Epoch 66/120\n",
      "26/26 [==============================] - 16s 630ms/step - loss: 3.3150e-05 - val_loss: 0.0286\n",
      "Epoch 67/120\n",
      "26/26 [==============================] - 17s 651ms/step - loss: 1.1019e-04 - val_loss: 0.0262\n",
      "Epoch 68/120\n",
      "26/26 [==============================] - 17s 635ms/step - loss: 3.6701e-05 - val_loss: 0.0251\n",
      "Epoch 69/120\n",
      "26/26 [==============================] - 17s 646ms/step - loss: 5.6720e-05 - val_loss: 0.0264\n",
      "Epoch 70/120\n",
      "26/26 [==============================] - 16s 631ms/step - loss: 3.0695e-05 - val_loss: 0.0267\n",
      "Epoch 71/120\n",
      "26/26 [==============================] - 18s 681ms/step - loss: 2.4536e-05 - val_loss: 0.0250\n",
      "Epoch 72/120\n",
      "26/26 [==============================] - 16s 630ms/step - loss: 2.2220e-05 - val_loss: 0.0258\n",
      "Epoch 73/120\n",
      "26/26 [==============================] - 17s 646ms/step - loss: 6.7214e-05 - val_loss: 0.0256\n",
      "Epoch 74/120\n",
      "26/26 [==============================] - 16s 632ms/step - loss: 1.4614e-04 - val_loss: 0.0175\n",
      "Epoch 75/120\n",
      "26/26 [==============================] - 16s 635ms/step - loss: 5.1471e-04 - val_loss: 0.0158\n",
      "Epoch 76/120\n",
      "26/26 [==============================] - 16s 633ms/step - loss: 1.0590e-04 - val_loss: 0.0193\n",
      "Epoch 77/120\n",
      "26/26 [==============================] - 16s 630ms/step - loss: 6.5137e-05 - val_loss: 0.0187\n",
      "Epoch 78/120\n",
      "26/26 [==============================] - 17s 644ms/step - loss: 4.8658e-05 - val_loss: 0.0205\n",
      "Epoch 79/120\n",
      "26/26 [==============================] - 17s 638ms/step - loss: 2.9611e-05 - val_loss: 0.0201\n",
      "Epoch 80/120\n",
      "26/26 [==============================] - 17s 660ms/step - loss: 2.3372e-05 - val_loss: 0.0206\n",
      "Epoch 81/120\n",
      "26/26 [==============================] - 19s 712ms/step - loss: 2.9218e-05 - val_loss: 0.0205\n",
      "Epoch 82/120\n",
      "26/26 [==============================] - 18s 707ms/step - loss: 2.1045e-05 - val_loss: 0.0209\n",
      "Epoch 83/120\n",
      "26/26 [==============================] - 18s 690ms/step - loss: 2.8297e-05 - val_loss: 0.0209\n",
      "Epoch 84/120\n",
      "26/26 [==============================] - 18s 705ms/step - loss: 2.0124e-05 - val_loss: 0.0210\n",
      "Epoch 85/120\n",
      "26/26 [==============================] - 19s 743ms/step - loss: 2.3248e-05 - val_loss: 0.0208\n",
      "Epoch 86/120\n",
      "26/26 [==============================] - 18s 694ms/step - loss: 3.3277e-05 - val_loss: 0.0209\n",
      "Epoch 87/120\n",
      "26/26 [==============================] - 19s 744ms/step - loss: 2.6409e-05 - val_loss: 0.0206\n",
      "Epoch 88/120\n",
      "26/26 [==============================] - 19s 735ms/step - loss: 1.5994e-05 - val_loss: 0.0216\n",
      "Epoch 89/120\n",
      "26/26 [==============================] - 20s 760ms/step - loss: 2.1509e-05 - val_loss: 0.0201\n",
      "Epoch 90/120\n",
      "26/26 [==============================] - 20s 777ms/step - loss: 1.9763e-05 - val_loss: 0.0206\n",
      "Epoch 91/120\n",
      "26/26 [==============================] - 20s 761ms/step - loss: 1.6599e-05 - val_loss: 0.0210\n",
      "Epoch 92/120\n",
      "26/26 [==============================] - 20s 775ms/step - loss: 1.5527e-05 - val_loss: 0.0209\n",
      "Epoch 93/120\n",
      "26/26 [==============================] - 21s 794ms/step - loss: 2.7930e-05 - val_loss: 0.0195\n",
      "Epoch 94/120\n",
      "26/26 [==============================] - 18s 709ms/step - loss: 3.5364e-05 - val_loss: 0.0192\n",
      "Epoch 95/120\n",
      "26/26 [==============================] - 18s 697ms/step - loss: 2.4750e-05 - val_loss: 0.0194\n",
      "Epoch 96/120\n",
      "26/26 [==============================] - 19s 750ms/step - loss: 3.0746e-05 - val_loss: 0.0196\n",
      "Epoch 97/120\n",
      "26/26 [==============================] - 19s 750ms/step - loss: 1.9123e-05 - val_loss: 0.0200\n",
      "Epoch 98/120\n",
      "26/26 [==============================] - 18s 702ms/step - loss: 2.5156e-05 - val_loss: 0.0199\n",
      "Epoch 99/120\n",
      "26/26 [==============================] - 19s 727ms/step - loss: 1.3637e-05 - val_loss: 0.0197\n",
      "Epoch 100/120\n",
      "26/26 [==============================] - 19s 734ms/step - loss: 3.5347e-05 - val_loss: 0.0197\n",
      "Epoch 101/120\n",
      "26/26 [==============================] - 19s 724ms/step - loss: 9.3863e-06 - val_loss: 0.0197\n",
      "Epoch 102/120\n",
      "26/26 [==============================] - 19s 746ms/step - loss: 2.5786e-05 - val_loss: 0.0206\n",
      "Epoch 103/120\n",
      "26/26 [==============================] - 20s 755ms/step - loss: 2.7176e-05 - val_loss: 0.0194\n",
      "Epoch 104/120\n",
      "26/26 [==============================] - 20s 770ms/step - loss: 5.0281e-05 - val_loss: 0.0186\n",
      "Epoch 105/120\n",
      "26/26 [==============================] - 19s 719ms/step - loss: 1.8672e-05 - val_loss: 0.0205\n",
      "Epoch 106/120\n",
      "26/26 [==============================] - 18s 700ms/step - loss: 5.1750e-05 - val_loss: 0.0185\n",
      "Epoch 107/120\n",
      "26/26 [==============================] - 19s 718ms/step - loss: 1.6164e-05 - val_loss: 0.0203\n",
      "Epoch 108/120\n",
      "26/26 [==============================] - 19s 715ms/step - loss: 4.9270e-05 - val_loss: 0.0176\n",
      "Epoch 109/120\n",
      "26/26 [==============================] - 20s 777ms/step - loss: 4.3765e-05 - val_loss: 0.0176\n",
      "Epoch 114/120\n",
      "26/26 [==============================] - 20s 765ms/step - loss: 2.1605e-05 - val_loss: 0.0184\n",
      "Epoch 115/120\n",
      "26/26 [==============================] - 19s 751ms/step - loss: 1.2278e-05 - val_loss: 0.0179\n",
      "Epoch 116/120\n",
      "26/26 [==============================] - 22s 833ms/step - loss: 1.3813e-05 - val_loss: 0.0185\n",
      "Epoch 117/120\n",
      "26/26 [==============================] - 19s 742ms/step - loss: 2.2027e-05 - val_loss: 0.0188\n",
      "Epoch 118/120\n",
      "26/26 [==============================] - 19s 740ms/step - loss: 2.4508e-05 - val_loss: 0.0180\n",
      "Epoch 119/120\n",
      "26/26 [==============================] - 19s 725ms/step - loss: 1.0529e-05 - val_loss: 0.0179\n",
      "Epoch 120/120\n",
      "26/26 [==============================] - 19s 717ms/step - loss: 2.4343e-05 - val_loss: 0.0184\n"
     ]
    },
    {
     "data": {
      "text/plain": [
       "<keras.callbacks.History at 0x1bbb6a1f430>"
      ]
     },
     "execution_count": 151,
     "metadata": {},
     "output_type": "execute_result"
    }
   ],
   "source": [
    "model.fit(X_train, y_train, \n",
    "          validation_data=(X_val,y_val),\n",
    "          batch_size=64, \n",
    "          epochs=120, \n",
    "          shuffle = True)"
   ]
  },
  {
   "cell_type": "code",
   "execution_count": 152,
   "metadata": {},
   "outputs": [],
   "source": [
    "m,b = np.polyfit(y_train,model.predict(X_train),1)"
   ]
  },
  {
   "cell_type": "code",
   "execution_count": 153,
   "metadata": {},
   "outputs": [
    {
     "data": {
      "text/plain": [
       "(array([0.28876907]), array([0.26025826]))"
      ]
     },
     "execution_count": 153,
     "metadata": {},
     "output_type": "execute_result"
    }
   ],
   "source": [
    "m,b"
   ]
  },
  {
   "cell_type": "code",
   "execution_count": 154,
   "metadata": {},
   "outputs": [
    {
     "data": {
      "text/plain": [
       "<matplotlib.collections.PathCollection at 0x1bbb8df7d30>"
      ]
     },
     "execution_count": 154,
     "metadata": {},
     "output_type": "execute_result"
    },
    {
     "data": {
      "image/png": "[encoded data removed]",
      "text/plain": [
       "<Figure size 432x288 with 1 Axes>"
      ]
     },
     "metadata": {
      "needs_background": "light"
     },
     "output_type": "display_data"
    }
   ],
   "source": [
    "plt.scatter(y_val,(model.predict(X_val)-b[0])/m[0])"
   ]
  },
  {
   "cell_type": "code",
   "execution_count": 155,
   "metadata": {},
   "outputs": [],
   "source": [
    "model.save('vortex_weights.h5')"
   ]
  }
 ],
 "metadata": {
  "kernelspec": {
   "display_name": "Python 3",
   "language": "python",
   "name": "python3"
  },
  "language_info": {
   "codemirror_mode": {
    "name": "ipython",
    "version": 3
   },
   "file_extension": ".py",
   "mimetype": "text/x-python",
   "name": "python",
   "nbconvert_exporter": "python",
   "pygments_lexer": "ipython3",
   "version": "3.8.5"
  }
 },
 "nbformat": 4,
 "nbformat_minor": 4
}
