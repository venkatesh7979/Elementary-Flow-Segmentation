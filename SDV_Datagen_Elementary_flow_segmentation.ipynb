{
 "cells": [
  {
   "cell_type": "code",
   "execution_count": 76,
   "metadata": {},
   "outputs": [
    {
     "name": "stdout",
     "output_type": "stream",
     "text": [
      "C:\\Users\\venka\\OneDrive\\Desktop\\BTP\\Data\\source_doublet_vortex\\train_data\\val\n"
     ]
    }
   ],
   "source": [
    "cd C:\\Users\\venka\\OneDrive\\Desktop\\BTP\\Data\\source_doublet_vortex\\train_data\\val"
   ]
  },
  {
   "cell_type": "code",
   "execution_count": 2,
   "metadata": {
    "id": "9t5U5ma8vRm3"
   },
   "outputs": [],
   "source": [
    "import numpy as np\n",
    "import pandas as pd\n",
    "import matplotlib.pyplot as plt\n",
    "import random\n",
    "from  scipy import ndimage\n",
    "from cv2 import cv2\n",
    "from matplotlib.image import imread,imsave\n",
    "import plotly.figure_factory as ff\n",
    "import plotly.graph_objects as go\n",
    "import math"
   ]
  },
  {
   "cell_type": "markdown",
   "metadata": {
    "id": "gt6R-8sVxjgx"
   },
   "source": [
    "Define the required parameters"
   ]
  },
  {
   "cell_type": "code",
   "execution_count": 3,
   "metadata": {
    "id": "JJYL7tuuxkBY"
   },
   "outputs": [],
   "source": [
    "h = 224\n",
    "w = 224\n",
    "nmax=10\n",
    "l=4\n",
    "types=['source_sink','doublet','vortex']\n",
    "dictype={type:i for i,type in enumerate(types)}"
   ]
  },
  {
   "cell_type": "markdown",
   "metadata": {
    "id": "z80x7MQG1B6E"
   },
   "source": [
    "Create a meshgrid"
   ]
  },
  {
   "cell_type": "code",
   "execution_count": 4,
   "metadata": {
    "id": "vMkFDeCQ1BJA"
   },
   "outputs": [],
   "source": [
    "x = np.linspace(-5, 5, h)\n",
    "y = np.linspace(-5, 5, w)\n",
    "X, Y = np.meshgrid(x, y)"
   ]
  },
  {
   "cell_type": "code",
   "execution_count": 5,
   "metadata": {
    "colab": {
     "base_uri": "https://localhost:8080/"
    },
    "id": "iUUNmSdpcJTY",
    "outputId": "1b4d6aaa-c718-4932-c6fb-82f4c8844253"
   },
   "outputs": [
    {
     "data": {
      "text/plain": [
       "array([[-5.        , -4.95515695, -4.9103139 , ...,  4.9103139 ,\n",
       "         4.95515695,  5.        ],\n",
       "       [-5.        , -4.95515695, -4.9103139 , ...,  4.9103139 ,\n",
       "         4.95515695,  5.        ],\n",
       "       [-5.        , -4.95515695, -4.9103139 , ...,  4.9103139 ,\n",
       "         4.95515695,  5.        ],\n",
       "       ...,\n",
       "       [-5.        , -4.95515695, -4.9103139 , ...,  4.9103139 ,\n",
       "         4.95515695,  5.        ],\n",
       "       [-5.        , -4.95515695, -4.9103139 , ...,  4.9103139 ,\n",
       "         4.95515695,  5.        ],\n",
       "       [-5.        , -4.95515695, -4.9103139 , ...,  4.9103139 ,\n",
       "         4.95515695,  5.        ]])"
      ]
     },
     "execution_count": 5,
     "metadata": {},
     "output_type": "execute_result"
    }
   ],
   "source": [
    "X"
   ]
  },
  {
   "cell_type": "code",
   "execution_count": 6,
   "metadata": {
    "colab": {
     "base_uri": "https://localhost:8080/"
    },
    "id": "m6CUcJ1icLF7",
    "outputId": "c2ab47e3-02bd-4b0c-f5b0-9175c970a0ad"
   },
   "outputs": [
    {
     "data": {
      "text/plain": [
       "array([[-5.        , -5.        , -5.        , ..., -5.        ,\n",
       "        -5.        , -5.        ],\n",
       "       [-4.95515695, -4.95515695, -4.95515695, ..., -4.95515695,\n",
       "        -4.95515695, -4.95515695],\n",
       "       [-4.9103139 , -4.9103139 , -4.9103139 , ..., -4.9103139 ,\n",
       "        -4.9103139 , -4.9103139 ],\n",
       "       ...,\n",
       "       [ 4.9103139 ,  4.9103139 ,  4.9103139 , ...,  4.9103139 ,\n",
       "         4.9103139 ,  4.9103139 ],\n",
       "       [ 4.95515695,  4.95515695,  4.95515695, ...,  4.95515695,\n",
       "         4.95515695,  4.95515695],\n",
       "       [ 5.        ,  5.        ,  5.        , ...,  5.        ,\n",
       "         5.        ,  5.        ]])"
      ]
     },
     "execution_count": 6,
     "metadata": {},
     "output_type": "execute_result"
    }
   ],
   "source": [
    "Y"
   ]
  },
  {
   "cell_type": "markdown",
   "metadata": {
    "id": "IPFmUhCAv0iB"
   },
   "source": [
    "Functions for elementary flows"
   ]
  },
  {
   "cell_type": "code",
   "execution_count": 7,
   "metadata": {
    "id": "YMiefvHcv1FO"
   },
   "outputs": [],
   "source": [
    "def source_sink(x0,y0,X,Y):\n",
    "    import math\n",
    "    #Set strength limit\n",
    "    pi=math.pi\n",
    "    smax=100\n",
    "    choose=random.randint(0,1)\n",
    "    if choose==0:\n",
    "        strength=random.randint(-1*smax,-1*smax//2)\n",
    "    else:\n",
    "        strength=random.randint(smax//2,smax)\n",
    "    U=(strength/(2*pi))*(X-x0)/((X-x0)**2+(Y-y0)**2)\n",
    "    V=(strength/(2*pi))*(Y-y0)/((X-x0)**2+(Y-y0)**2)    \n",
    "    return [U,V,strength]\n",
    "\n",
    "def doublet(x0,y0,X,Y):\n",
    "    import math\n",
    "    #Set strength limit\n",
    "    pi=math.pi\n",
    "    smax=75\n",
    "    strength=random.randint(smax//2,smax)\n",
    "    U=(strength/(2*pi))*((X-x0)**2-(Y-y0)**2)/((X-x0)**2+(Y-y0)**2)**2\n",
    "    V=(strength/(2*pi))*(2*(X-x0)*(Y-y0))/((X-x0)**2+(Y-y0)**2)**2 \n",
    "    return [U,V,strength]\n",
    "\n",
    "def vortex(x0,y0,X,Y):\n",
    "    import math\n",
    "    #Set strength limit\n",
    "    pi=math.pi\n",
    "    smax=75\n",
    "    strength=random.randint(smax//2,smax)\n",
    "    U=(strength/(2*pi))*((Y-y0))/((X-x0)**2+(Y-y0)**2)\n",
    "    V=(strength/(2*pi))*(-1*(X-x0))/((X-x0)**2+(Y-y0)**2)\n",
    "    return [U,V,strength]"
   ]
  },
  {
   "cell_type": "code",
   "execution_count": 8,
   "metadata": {
    "id": "B2ONNeBclSKJ"
   },
   "outputs": [],
   "source": [
    "strength_val=[]\n",
    "bbox = []\n",
    "imgname=[]\n",
    "raw_vel=[]"
   ]
  },
  {
   "cell_type": "code",
   "execution_count": 9,
   "metadata": {
    "colab": {
     "base_uri": "https://localhost:8080/"
    },
    "id": "HVxLIFDKxIS-",
    "outputId": "6bbd9621-2f40-408e-84c7-56f708df0fa4"
   },
   "outputs": [
    {
     "name": "stderr",
     "output_type": "stream",
     "text": [
      "<ipython-input-9-459d1892fa91>:51: RuntimeWarning: invalid value encountered in true_divide\n",
      "  U=(U-U.min())/(U.max()-U.min())\n",
      "<ipython-input-9-459d1892fa91>:52: RuntimeWarning: invalid value encountered in true_divide\n",
      "  V=(V-V.min())/(V.max()-V.min())\n",
      "<ipython-input-9-459d1892fa91>:53: RuntimeWarning: invalid value encountered in true_divide\n",
      "  T=(T-T.min())/(T.max()-T.min())\n"
     ]
    },
    {
     "name": "stdout",
     "output_type": "stream",
     "text": [
      "100\n",
      "200\n"
     ]
    }
   ],
   "source": [
    "for i in range(200):\n",
    "    if (i+1)%100==0:\n",
    "        print(i+1)\n",
    "    #choose number of flows\n",
    "    number_of_flows=random.randint(0,nmax)\n",
    "    points=[]\n",
    "    while(len(points)<number_of_flows):\n",
    "        x0=np.random.choice(np.linspace(-1*l, l, h))\n",
    "        y0=np.random.choice(np.linspace(-1*l, l, h))\n",
    "        flag=1\n",
    "        for point in points:\n",
    "            x=point[0]\n",
    "            y=point[1]\n",
    "            if ((x0-x)**2+(y0-y)**2)**0.5<1.5:\n",
    "                flag=0\n",
    "        if flag==1:\n",
    "            points.append([x0,y0])\n",
    "    vel1x=np.zeros_like(X)\n",
    "    vel2x=np.zeros_like(X)\n",
    "    text=[]\n",
    "    strength_text=[]\n",
    "    for point in points:\n",
    "        type=np.random.choice(types)\n",
    "        x0=point[0]\n",
    "        y0=point[1]\n",
    "        text.append(str(dictype[type])+' '+str((x0+l+1)/(2*l+2))+' '+str((y0+l+1)/(2*l+2))+' 0.12'+' 0.12'+' \\n')\n",
    "        if type=='source_sink':\n",
    "            vel=source_sink(x0,y0,X,Y)\n",
    "            vel1x+=vel[0]\n",
    "            vel2x+=vel[1]\n",
    "        if type=='doublet':\n",
    "            vel=doublet(x0,y0,X,Y)\n",
    "            vel1x+=vel[0]\n",
    "            vel2x+=vel[1]\n",
    "        if type=='vortex':\n",
    "            vel=vortex(x0,y0,X,Y)\n",
    "            vel1x+=vel[0]\n",
    "            vel2x+=vel[1]\n",
    "        strength_text.append(vel[2])\n",
    "    vel1x[np.isnan(vel1x)]=0\n",
    "    vel2x[np.isnan(vel2x)]=0\n",
    "\n",
    "    U=ndimage.median_filter(vel1x,size=(5,5))\n",
    "    V=ndimage.median_filter(vel2x,size=(5,5))\n",
    "    T=(U**2+V**2)**0.5\n",
    "\n",
    "    ru=U\n",
    "    rv=V\n",
    "    rt=T\n",
    "    \n",
    "    U=(U-U.min())/(U.max()-U.min())\n",
    "    V=(V-V.min())/(V.max()-V.min())\n",
    "    T=(T-T.min())/(T.max()-T.min())\n",
    "\n",
    "    rgb=np.dstack((U,V,T))\n",
    "    raw_rbg=np.dstack((ru,rv,rt))\n",
    "    raw_vel.append(raw_rbg)\n",
    "    imsave('images/'+'image'+str(i)+'.png', rgb)\n",
    "    imgname.append('image'+str(i)+'.png')\n",
    "    file1 = open('labels/image'+str(i)+\".txt\",\"w\")\n",
    "    bbox.append(''.join(text))\n",
    "    L = text\n",
    "    file1.writelines(L)\n",
    "    file1.close()\n",
    "    strength_val.append(strength_text)"
   ]
  },
  {
   "cell_type": "code",
   "execution_count": 10,
   "metadata": {
    "colab": {
     "base_uri": "https://localhost:8080/",
     "height": 286
    },
    "id": "nyuMQdRvj4A3",
    "outputId": "2dc968c2-f738-424d-a9f1-c663bcffc474"
   },
   "outputs": [
    {
     "data": {
      "text/plain": [
       "<matplotlib.image.AxesImage at 0x1c242899c70>"
      ]
     },
     "execution_count": 10,
     "metadata": {},
     "output_type": "execute_result"
    },
    {
     "data": {
      "image/png": "[encoded data removed]",
      "text/plain": [
       "<Figure size 432x288 with 1 Axes>"
      ]
     },
     "metadata": {
      "needs_background": "light"
     },
     "output_type": "display_data"
    }
   ],
   "source": [
    "plt.imshow(rgb)"
   ]
  },
  {
   "cell_type": "code",
   "execution_count": 11,
   "metadata": {
    "colab": {
     "base_uri": "https://localhost:8080/",
     "height": 286
    },
    "id": "PhzQjeHHIf6w",
    "outputId": "6acff19f-7260-487e-a90a-52588c0c9560"
   },
   "outputs": [
    {
     "data": {
      "text/plain": [
       "<matplotlib.image.AxesImage at 0x1c24caca640>"
      ]
     },
     "execution_count": 11,
     "metadata": {},
     "output_type": "execute_result"
    },
    {
     "data": {
      "image/png": "[encoded data removed]",
      "text/plain": [
       "<Figure size 432x288 with 1 Axes>"
      ]
     },
     "metadata": {
      "needs_background": "light"
     },
     "output_type": "display_data"
    }
   ],
   "source": [
    "image = rgb.copy()\n",
    "for t in text:\n",
    "    t=t.split()\n",
    "    xmid=float(t[1])\n",
    "    ymid=float(t[2])\n",
    "    rgb2=cv2.rectangle(image,(int((xmid-0.06)*224),int((ymid-0.06)*224)),(int((xmid+0.06)*224),int((ymid+0.06)*224)),(1,0,0),2)\n",
    "plt.imshow(rgb2)"
   ]
  },
  {
   "cell_type": "code",
   "execution_count": 12,
   "metadata": {},
   "outputs": [],
   "source": [
    "df = pd.DataFrame()"
   ]
  },
  {
   "cell_type": "code",
   "execution_count": 13,
   "metadata": {
    "id": "tt1-a3lVKlE_"
   },
   "outputs": [],
   "source": [
    "strength_series=[]\n",
    "for s in strength_val:\n",
    "    s=list(map(str,s))\n",
    "    strength_series.append(' '.join(s))"
   ]
  },
  {
   "cell_type": "code",
   "execution_count": 14,
   "metadata": {
    "id": "xgtxHV4dKqcq"
   },
   "outputs": [],
   "source": [
    "df['imagename']=imgname\n",
    "df['bbox']=bbox\n",
    "df['strength_val']=strength_series"
   ]
  },
  {
   "cell_type": "code",
   "execution_count": 15,
   "metadata": {},
   "outputs": [
    {
     "data": {
      "text/html": [
       "<div>\n",
       "<style scoped>\n",
       "    .dataframe tbody tr th:only-of-type {\n",
       "        vertical-align: middle;\n",
       "    }\n",
       "\n",
       "    .dataframe tbody tr th {\n",
       "        vertical-align: top;\n",
       "    }\n",
       "\n",
       "    .dataframe thead th {\n",
       "        text-align: right;\n",
       "    }\n",
       "</style>\n",
       "<table border=\"1\" class=\"dataframe\">\n",
       "  <thead>\n",
       "    <tr style=\"text-align: right;\">\n",
       "      <th></th>\n",
       "      <th>imagename</th>\n",
       "      <th>bbox</th>\n",
       "      <th>strength_val</th>\n",
       "    </tr>\n",
       "  </thead>\n",
       "  <tbody>\n",
       "    <tr>\n",
       "      <th>0</th>\n",
       "      <td>image0.png</td>\n",
       "      <td>0 0.3654708520179372 0.3834080717488789 0.12 0...</td>\n",
       "      <td>54 62 69 51 69 61 58</td>\n",
       "    </tr>\n",
       "    <tr>\n",
       "      <th>1</th>\n",
       "      <td>image1.png</td>\n",
       "      <td>2 0.16457399103139014 0.1681614349775785 0.12 ...</td>\n",
       "      <td>70 53</td>\n",
       "    </tr>\n",
       "    <tr>\n",
       "      <th>2</th>\n",
       "      <td>image2.png</td>\n",
       "      <td>0 0.8174887892376681 0.5556053811659193 0.12 0...</td>\n",
       "      <td>67</td>\n",
       "    </tr>\n",
       "    <tr>\n",
       "      <th>3</th>\n",
       "      <td>image3.png</td>\n",
       "      <td>2 0.2434977578475336 0.14304932735426007 0.12 ...</td>\n",
       "      <td>61 65</td>\n",
       "    </tr>\n",
       "    <tr>\n",
       "      <th>4</th>\n",
       "      <td>image4.png</td>\n",
       "      <td>1 0.6130044843049327 0.26502242152466365 0.12 ...</td>\n",
       "      <td>51</td>\n",
       "    </tr>\n",
       "    <tr>\n",
       "      <th>...</th>\n",
       "      <td>...</td>\n",
       "      <td>...</td>\n",
       "      <td>...</td>\n",
       "    </tr>\n",
       "    <tr>\n",
       "      <th>195</th>\n",
       "      <td>image195.png</td>\n",
       "      <td>1 0.7887892376681614 0.7098654708520179 0.12 0...</td>\n",
       "      <td>56 55 69 51 55 71 68 61 60</td>\n",
       "    </tr>\n",
       "    <tr>\n",
       "      <th>196</th>\n",
       "      <td>image196.png</td>\n",
       "      <td>1 0.6381165919282511 0.46591928251121073 0.12 ...</td>\n",
       "      <td>45 -59 55 54 -87 48 69 38</td>\n",
       "    </tr>\n",
       "    <tr>\n",
       "      <th>197</th>\n",
       "      <td>image197.png</td>\n",
       "      <td>0 0.7780269058295964 0.48744394618834086 0.12 ...</td>\n",
       "      <td>77 72 -61 98 70 46 53 41 -89 66</td>\n",
       "    </tr>\n",
       "    <tr>\n",
       "      <th>198</th>\n",
       "      <td>image198.png</td>\n",
       "      <td>1 0.13228699551569506 0.27578475336322866 0.12...</td>\n",
       "      <td>53 54 61</td>\n",
       "    </tr>\n",
       "    <tr>\n",
       "      <th>199</th>\n",
       "      <td>image199.png</td>\n",
       "      <td>0 0.8533632286995516 0.30448430493273543 0.12 ...</td>\n",
       "      <td>-88 69 73 62 48 -73 61 53 65 63</td>\n",
       "    </tr>\n",
       "  </tbody>\n",
       "</table>\n",
       "<p>200 rows × 3 columns</p>\n",
       "</div>"
      ],
      "text/plain": [
       "        imagename                                               bbox  \\\n",
       "0      image0.png  0 0.3654708520179372 0.3834080717488789 0.12 0...   \n",
       "1      image1.png  2 0.16457399103139014 0.1681614349775785 0.12 ...   \n",
       "2      image2.png  0 0.8174887892376681 0.5556053811659193 0.12 0...   \n",
       "3      image3.png  2 0.2434977578475336 0.14304932735426007 0.12 ...   \n",
       "4      image4.png  1 0.6130044843049327 0.26502242152466365 0.12 ...   \n",
       "..            ...                                                ...   \n",
       "195  image195.png  1 0.7887892376681614 0.7098654708520179 0.12 0...   \n",
       "196  image196.png  1 0.6381165919282511 0.46591928251121073 0.12 ...   \n",
       "197  image197.png  0 0.7780269058295964 0.48744394618834086 0.12 ...   \n",
       "198  image198.png  1 0.13228699551569506 0.27578475336322866 0.12...   \n",
       "199  image199.png  0 0.8533632286995516 0.30448430493273543 0.12 ...   \n",
       "\n",
       "                        strength_val  \n",
       "0               54 62 69 51 69 61 58  \n",
       "1                              70 53  \n",
       "2                                 67  \n",
       "3                              61 65  \n",
       "4                                 51  \n",
       "..                               ...  \n",
       "195       56 55 69 51 55 71 68 61 60  \n",
       "196        45 -59 55 54 -87 48 69 38  \n",
       "197  77 72 -61 98 70 46 53 41 -89 66  \n",
       "198                         53 54 61  \n",
       "199  -88 69 73 62 48 -73 61 53 65 63  \n",
       "\n",
       "[200 rows x 3 columns]"
      ]
     },
     "execution_count": 15,
     "metadata": {},
     "output_type": "execute_result"
    }
   ],
   "source": [
    "df"
   ]
  },
  {
   "cell_type": "code",
   "execution_count": 16,
   "metadata": {},
   "outputs": [],
   "source": [
    "df.to_csv('strength_details.csv',index=False)"
   ]
  },
  {
   "cell_type": "code",
   "execution_count": 17,
   "metadata": {},
   "outputs": [],
   "source": [
    "np.save('raw_vel_files',raw_vel)"
   ]
  },
  {
   "cell_type": "markdown",
   "metadata": {},
   "source": [
    "# Preparing the Data for finding the strength"
   ]
  },
  {
   "cell_type": "code",
   "execution_count": 77,
   "metadata": {},
   "outputs": [],
   "source": [
    "df = pd.read_csv('strength_details.csv')"
   ]
  },
  {
   "cell_type": "code",
   "execution_count": 78,
   "metadata": {},
   "outputs": [
    {
     "data": {
      "text/html": [
       "<div>\n",
       "<style scoped>\n",
       "    .dataframe tbody tr th:only-of-type {\n",
       "        vertical-align: middle;\n",
       "    }\n",
       "\n",
       "    .dataframe tbody tr th {\n",
       "        vertical-align: top;\n",
       "    }\n",
       "\n",
       "    .dataframe thead th {\n",
       "        text-align: right;\n",
       "    }\n",
       "</style>\n",
       "<table border=\"1\" class=\"dataframe\">\n",
       "  <thead>\n",
       "    <tr style=\"text-align: right;\">\n",
       "      <th></th>\n",
       "      <th>imagename</th>\n",
       "      <th>bbox</th>\n",
       "      <th>strength_val</th>\n",
       "    </tr>\n",
       "  </thead>\n",
       "  <tbody>\n",
       "    <tr>\n",
       "      <th>0</th>\n",
       "      <td>image0.png</td>\n",
       "      <td>0 0.3654708520179372 0.3834080717488789 0.12 0...</td>\n",
       "      <td>54 62 69 51 69 61 58</td>\n",
       "    </tr>\n",
       "    <tr>\n",
       "      <th>1</th>\n",
       "      <td>image1.png</td>\n",
       "      <td>2 0.16457399103139014 0.1681614349775785 0.12 ...</td>\n",
       "      <td>70 53</td>\n",
       "    </tr>\n",
       "    <tr>\n",
       "      <th>2</th>\n",
       "      <td>image2.png</td>\n",
       "      <td>0 0.8174887892376681 0.5556053811659193 0.12 0...</td>\n",
       "      <td>67</td>\n",
       "    </tr>\n",
       "    <tr>\n",
       "      <th>3</th>\n",
       "      <td>image3.png</td>\n",
       "      <td>2 0.2434977578475336 0.14304932735426007 0.12 ...</td>\n",
       "      <td>61 65</td>\n",
       "    </tr>\n",
       "    <tr>\n",
       "      <th>4</th>\n",
       "      <td>image4.png</td>\n",
       "      <td>1 0.6130044843049327 0.26502242152466365 0.12 ...</td>\n",
       "      <td>51</td>\n",
       "    </tr>\n",
       "    <tr>\n",
       "      <th>...</th>\n",
       "      <td>...</td>\n",
       "      <td>...</td>\n",
       "      <td>...</td>\n",
       "    </tr>\n",
       "    <tr>\n",
       "      <th>195</th>\n",
       "      <td>image195.png</td>\n",
       "      <td>1 0.7887892376681614 0.7098654708520179 0.12 0...</td>\n",
       "      <td>56 55 69 51 55 71 68 61 60</td>\n",
       "    </tr>\n",
       "    <tr>\n",
       "      <th>196</th>\n",
       "      <td>image196.png</td>\n",
       "      <td>1 0.6381165919282511 0.46591928251121073 0.12 ...</td>\n",
       "      <td>45 -59 55 54 -87 48 69 38</td>\n",
       "    </tr>\n",
       "    <tr>\n",
       "      <th>197</th>\n",
       "      <td>image197.png</td>\n",
       "      <td>0 0.7780269058295964 0.48744394618834086 0.12 ...</td>\n",
       "      <td>77 72 -61 98 70 46 53 41 -89 66</td>\n",
       "    </tr>\n",
       "    <tr>\n",
       "      <th>198</th>\n",
       "      <td>image198.png</td>\n",
       "      <td>1 0.13228699551569506 0.27578475336322866 0.12...</td>\n",
       "      <td>53 54 61</td>\n",
       "    </tr>\n",
       "    <tr>\n",
       "      <th>199</th>\n",
       "      <td>image199.png</td>\n",
       "      <td>0 0.8533632286995516 0.30448430493273543 0.12 ...</td>\n",
       "      <td>-88 69 73 62 48 -73 61 53 65 63</td>\n",
       "    </tr>\n",
       "  </tbody>\n",
       "</table>\n",
       "<p>200 rows × 3 columns</p>\n",
       "</div>"
      ],
      "text/plain": [
       "        imagename                                               bbox  \\\n",
       "0      image0.png  0 0.3654708520179372 0.3834080717488789 0.12 0...   \n",
       "1      image1.png  2 0.16457399103139014 0.1681614349775785 0.12 ...   \n",
       "2      image2.png  0 0.8174887892376681 0.5556053811659193 0.12 0...   \n",
       "3      image3.png  2 0.2434977578475336 0.14304932735426007 0.12 ...   \n",
       "4      image4.png  1 0.6130044843049327 0.26502242152466365 0.12 ...   \n",
       "..            ...                                                ...   \n",
       "195  image195.png  1 0.7887892376681614 0.7098654708520179 0.12 0...   \n",
       "196  image196.png  1 0.6381165919282511 0.46591928251121073 0.12 ...   \n",
       "197  image197.png  0 0.7780269058295964 0.48744394618834086 0.12 ...   \n",
       "198  image198.png  1 0.13228699551569506 0.27578475336322866 0.12...   \n",
       "199  image199.png  0 0.8533632286995516 0.30448430493273543 0.12 ...   \n",
       "\n",
       "                        strength_val  \n",
       "0               54 62 69 51 69 61 58  \n",
       "1                              70 53  \n",
       "2                                 67  \n",
       "3                              61 65  \n",
       "4                                 51  \n",
       "..                               ...  \n",
       "195       56 55 69 51 55 71 68 61 60  \n",
       "196        45 -59 55 54 -87 48 69 38  \n",
       "197  77 72 -61 98 70 46 53 41 -89 66  \n",
       "198                         53 54 61  \n",
       "199  -88 69 73 62 48 -73 61 53 65 63  \n",
       "\n",
       "[200 rows x 3 columns]"
      ]
     },
     "execution_count": 78,
     "metadata": {},
     "output_type": "execute_result"
    }
   ],
   "source": [
    "df"
   ]
  },
  {
   "cell_type": "code",
   "execution_count": 79,
   "metadata": {},
   "outputs": [],
   "source": [
    "bbox = df['bbox'].tolist()\n",
    "strength_val = df['strength_val'].tolist()"
   ]
  },
  {
   "cell_type": "code",
   "execution_count": 80,
   "metadata": {},
   "outputs": [],
   "source": [
    "raw_vel = np.load('raw_vel_files.npy')"
   ]
  },
  {
   "cell_type": "code",
   "execution_count": 81,
   "metadata": {},
   "outputs": [
    {
     "data": {
      "text/plain": [
       "(200, 224, 224, 3)"
      ]
     },
     "execution_count": 81,
     "metadata": {},
     "output_type": "execute_result"
    }
   ],
   "source": [
    "raw_vel.shape"
   ]
  },
  {
   "cell_type": "code",
   "execution_count": 82,
   "metadata": {},
   "outputs": [
    {
     "data": {
      "text/plain": [
       "(224, 224, 3)"
      ]
     },
     "execution_count": 82,
     "metadata": {},
     "output_type": "execute_result"
    }
   ],
   "source": [
    "raw_vel[0].shape"
   ]
  },
  {
   "cell_type": "code",
   "execution_count": 83,
   "metadata": {},
   "outputs": [],
   "source": [
    "source_sink = []\n",
    "source_sink_sth = []\n",
    "doublet = []\n",
    "doublet_sth = []\n",
    "vortex = []\n",
    "vortex_sth = []"
   ]
  },
  {
   "cell_type": "code",
   "execution_count": 84,
   "metadata": {},
   "outputs": [
    {
     "data": {
      "text/plain": [
       "['0 0.3654708520179372 0.3834080717488789 0.12 0.12 ',\n",
       " '1 0.1179372197309417 0.4228699551569507 0.12 0.12 ',\n",
       " '0 0.7026905829596413 0.6130044843049327 0.12 0.12 ',\n",
       " '2 0.34394618834080715 0.867713004484305 0.12 0.12 ',\n",
       " '1 0.48026905829596417 0.6130044843049327 0.12 0.12 ',\n",
       " '1 0.27578475336322866 0.7242152466367713 0.12 0.12 ',\n",
       " '1 0.8426008968609866 0.4443946188340807 0.12 0.12 ',\n",
       " '']"
      ]
     },
     "execution_count": 84,
     "metadata": {},
     "output_type": "execute_result"
    }
   ],
   "source": [
    "bbox[0].split('\\n')"
   ]
  },
  {
   "cell_type": "code",
   "execution_count": 85,
   "metadata": {},
   "outputs": [],
   "source": [
    "for i,record in enumerate(bbox):\n",
    "    try:\n",
    "        record = record.split('\\n')\n",
    "        strength = strength_val[i].split()\n",
    "        for j,box in enumerate(record):\n",
    "            if box!= '':\n",
    "                box = box.split()\n",
    "                typ = box[0]\n",
    "                startx = int((float(box[1]) - float(box[3])/2)*h)\n",
    "                starty = int((float(box[2]) - float(box[4])/2)*w)\n",
    "                sx = int(float(box[3])*w)\n",
    "                sy = int(float(box[4])*h)\n",
    "                if typ == '0':\n",
    "                    source_sink.append(raw_vel[i][starty:starty+sy,startx:startx+sx,:])\n",
    "                    source_sink_sth.append(float(strength[j]))\n",
    "                if typ == '1':\n",
    "                    doublet.append(raw_vel[i][starty:starty+sy,startx:startx+sx,:])\n",
    "                    doublet_sth.append(float(strength[j]))\n",
    "                if typ == '2':\n",
    "                    vortex.append(raw_vel[i][starty:starty+sy,startx:startx+sx,:])\n",
    "                    vortex_sth.append(float(strength[j]))\n",
    "    except:\n",
    "        pass"
   ]
  },
  {
   "cell_type": "code",
   "execution_count": 86,
   "metadata": {},
   "outputs": [
    {
     "data": {
      "text/plain": [
       "(334, 317, 322)"
      ]
     },
     "execution_count": 86,
     "metadata": {},
     "output_type": "execute_result"
    }
   ],
   "source": [
    "len(source_sink),len(doublet),len(vortex)"
   ]
  },
  {
   "cell_type": "code",
   "execution_count": 87,
   "metadata": {},
   "outputs": [
    {
     "data": {
      "text/plain": [
       "(334, 317, 322)"
      ]
     },
     "execution_count": 87,
     "metadata": {},
     "output_type": "execute_result"
    }
   ],
   "source": [
    "len(source_sink_sth),len(doublet_sth),len(vortex_sth)"
   ]
  },
  {
   "cell_type": "code",
   "execution_count": 88,
   "metadata": {},
   "outputs": [],
   "source": [
    "np.save('source_sink_val',source_sink)"
   ]
  },
  {
   "cell_type": "code",
   "execution_count": 89,
   "metadata": {},
   "outputs": [],
   "source": [
    "np.save('source_sink_sth_val',source_sink_sth)"
   ]
  },
  {
   "cell_type": "code",
   "execution_count": 90,
   "metadata": {},
   "outputs": [],
   "source": [
    "np.save('doublet_val',doublet)"
   ]
  },
  {
   "cell_type": "code",
   "execution_count": 91,
   "metadata": {},
   "outputs": [],
   "source": [
    "np.save('doublet_sth_val',doublet_sth)"
   ]
  },
  {
   "cell_type": "code",
   "execution_count": 92,
   "metadata": {},
   "outputs": [],
   "source": [
    "np.save('vortex_val',vortex)"
   ]
  },
  {
   "cell_type": "code",
   "execution_count": 93,
   "metadata": {},
   "outputs": [],
   "source": [
    "np.save('vortex_sth_val',vortex_sth)"
   ]
  }
 ],
 "metadata": {
  "colab": {
   "name": "Datagen Elementary flow segmentation.ipynb",
   "provenance": []
  },
  "kernelspec": {
   "display_name": "Python 3",
   "language": "python",
   "name": "python3"
  },
  "language_info": {
   "codemirror_mode": {
    "name": "ipython",
    "version": 3
   },
   "file_extension": ".py",
   "mimetype": "text/x-python",
   "name": "python",
   "nbconvert_exporter": "python",
   "pygments_lexer": "ipython3",
   "version": "3.8.5"
  }
 },
 "nbformat": 4,
 "nbformat_minor": 1
}
